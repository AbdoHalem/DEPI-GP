{
 "cells": [
  {
   "cell_type": "markdown",
   "metadata": {},
   "source": [
    "\n",
    "## Project:Medical Representative"
   ]
  },
  {
   "cell_type": "markdown",
   "metadata": {},
   "source": [
    "Medical representatives are the key point of contact between\n",
    "pharmaceutical and medical companies and healthcare professionals.\n",
    "A medical representative's job is to promote and sell their company's\n",
    "products, whether that's pharmaceutical drugs or medical equipment.\n",
    "Customers can include doctors, nurses and pharmacists. The medical\n",
    "representative will increase product awareness, answer queries,\n",
    "company.\n",
    "\n",
    "The job of medical representative has a lot of challenges but the most\n",
    "important one is how the medical representative convinces a doctor to write a\n",
    "drug from the medical company which he works for in his prescription where\n",
    "there are many competitors' drugs that have the same active ingredient from\n",
    "other companies.\n",
    "The goal is to know if a doctor with some\n",
    "specific features will write or not one of 6 drugs for a medical\n",
    "company that has license to produce several types of local produced\n",
    "drugs with the same active ingredients of multinational original drugs."
   ]
  },
  {
   "cell_type": "markdown",
   "metadata": {},
   "source": [
    "## Exploring the Data\n",
    "In this part i'm going to explore the data and all the features.\n",
    "\n",
    "### Datasets and Inputs\n",
    "The dataset was collected by me in a year from private clinics,\n",
    "hospitals and pharmacies\n",
    "All data are public data that was collected from doctors and\n",
    "pharmacists about 6 drugs produced by a certain medical company.\n"
   ]
  },
  {
   "cell_type": "markdown",
   "metadata": {},
   "source": [
    "# First Stage: Data Collection"
   ]
  },
  {
   "cell_type": "code",
   "execution_count": 210,
   "metadata": {},
   "outputs": [
    {
     "name": "stdout",
     "output_type": "stream",
     "text": [
      "The sql extension is already loaded. To reload it, use:\n",
      "  %reload_ext sql\n"
     ]
    }
   ],
   "source": [
    "import numpy as np\n",
    "import pandas as pd\n",
    "from IPython.display import display     # Allows the use of display() for DataFrames\n",
    "import sqlite3\n",
    "import seaborn as sb\n",
    "import matplotlib.pyplot as plt\n",
    "\n",
    "# Pretty display for notebooks\n",
    "%matplotlib inline\n",
    "%load_ext sql\n",
    "\n",
    "con = sqlite3.connect(\"med.db\")\n",
    "cur = con.cursor()\n",
    "%sql sqlite:///med.db"
   ]
  },
  {
   "cell_type": "markdown",
   "metadata": {},
   "source": [
    "## Featureset Exploration\n",
    "### Input Data fields (Features and Labels)\n",
    "The input data consists of 390 samples collected from 253 doctors.\n",
    "This data will be used for training and validation test in a data base file\n",
    "named 'med' attached with the project proposal.\n",
    "the data in database called med and splited in two tables connected by the id column.\n",
    "#### table 1 : medicine_table\n",
    "* **id_m:** row id for every medicine\n",
    "* **medicine:** The commercial name of the medicine that I refer to it as type1 to type6.\n",
    "* **Price:** price for every drug of these 6 drugs for patient.\n",
    "\n",
    "#### table 2 : doctor_table\n",
    "* **id_dr:** row id for every doctor\n",
    "* **exam_price:** examination price that the doctor takes from the patient.\n",
    "* **clinic_hos:** classification if this doctor has a private 'clinic' or works in a 'hospital'.\n",
    "* **dr_class:** doctor class was classified according to number of patients for every doctor and how much is this doctor famous and it was classified to 'a' and 'b'.\n",
    "\n",
    "**where:**\n",
    "\n",
    "* **class a:** are doctors with high patient rate\n",
    "* **class b:** are doctors with medium patient rate\n",
    "* **area:** every medical representative cover some areas in a city where the medical representative has to make a lot of visits for alot of doctors in different places and I refer to each area with the name (area1 to area8)with total 8 areas that I have covered to make my prospection.\n",
    "* **specialty:** the specialty of the doctor is one of the most important features because it will determine which of the 6 drugs will be suitable for this doctor to write it in his prescription. \n",
    "\n",
    "**These specialties are:**\n",
    "* **Chest:** chest specialist\n",
    "* **Im:** internal medicine specialist\n",
    "* **Cd:** cardiology specialist\n",
    "* **Neuro:** neurology specialist\n",
    "* **Git:** gastrointestinal tract specialist\n",
    "* **Ent:** ear, nose and throat specialist\n",
    "* **Sur:** surgery specialist\n",
    "* **Uro:** urology specialist\n",
    "* **Gp:** general practitioner\n",
    "* **Or:** orthopedic specialist\n",
    "* **Vas:** vascular specialst\n",
    "\n",
    "**With total 11 specialties.**\n",
    "\n",
    "* **Target (label):** just one target to classify if this doctor write any of these drugs in prescription to his patients or not. With (1) if the doctor writes the drug in his prescription and (0) if not."
   ]
  },
  {
   "cell_type": "code",
   "execution_count": 211,
   "metadata": {},
   "outputs": [
    {
     "name": "stdout",
     "output_type": "stream",
     "text": [
      " * sqlite:///med.db\n",
      "Done.\n"
     ]
    },
    {
     "data": {
      "text/html": [
       "<div>\n",
       "<style scoped>\n",
       "    .dataframe tbody tr th:only-of-type {\n",
       "        vertical-align: middle;\n",
       "    }\n",
       "\n",
       "    .dataframe tbody tr th {\n",
       "        vertical-align: top;\n",
       "    }\n",
       "\n",
       "    .dataframe thead th {\n",
       "        text-align: right;\n",
       "    }\n",
       "</style>\n",
       "<table border=\"1\" class=\"dataframe\">\n",
       "  <thead>\n",
       "    <tr style=\"text-align: right;\">\n",
       "      <th></th>\n",
       "      <th>id_m</th>\n",
       "      <th>medicine</th>\n",
       "      <th>price</th>\n",
       "    </tr>\n",
       "  </thead>\n",
       "  <tbody>\n",
       "    <tr>\n",
       "      <th>0</th>\n",
       "      <td>1</td>\n",
       "      <td>type1</td>\n",
       "      <td>45</td>\n",
       "    </tr>\n",
       "    <tr>\n",
       "      <th>1</th>\n",
       "      <td>2</td>\n",
       "      <td>type4</td>\n",
       "      <td>36</td>\n",
       "    </tr>\n",
       "    <tr>\n",
       "      <th>2</th>\n",
       "      <td>3</td>\n",
       "      <td>type1</td>\n",
       "      <td>45</td>\n",
       "    </tr>\n",
       "    <tr>\n",
       "      <th>3</th>\n",
       "      <td>4</td>\n",
       "      <td>type1</td>\n",
       "      <td>45</td>\n",
       "    </tr>\n",
       "    <tr>\n",
       "      <th>4</th>\n",
       "      <td>5</td>\n",
       "      <td>type5</td>\n",
       "      <td>29</td>\n",
       "    </tr>\n",
       "  </tbody>\n",
       "</table>\n",
       "</div>"
      ],
      "text/plain": [
       "   id_m medicine  price\n",
       "0     1    type1     45\n",
       "1     2    type4     36\n",
       "2     3    type1     45\n",
       "3     4    type1     45\n",
       "4     5    type5     29"
      ]
     },
     "metadata": {},
     "output_type": "display_data"
    }
   ],
   "source": [
    "medicine_table = %sql SELECT * FROM medicine_table;\n",
    "medicine_table = medicine_table.DataFrame()\n",
    "display(medicine_table.head())"
   ]
  },
  {
   "cell_type": "code",
   "execution_count": 212,
   "metadata": {},
   "outputs": [
    {
     "name": "stdout",
     "output_type": "stream",
     "text": [
      " * sqlite:///med.db\n",
      "Done.\n"
     ]
    },
    {
     "data": {
      "text/html": [
       "<div>\n",
       "<style scoped>\n",
       "    .dataframe tbody tr th:only-of-type {\n",
       "        vertical-align: middle;\n",
       "    }\n",
       "\n",
       "    .dataframe tbody tr th {\n",
       "        vertical-align: top;\n",
       "    }\n",
       "\n",
       "    .dataframe thead th {\n",
       "        text-align: right;\n",
       "    }\n",
       "</style>\n",
       "<table border=\"1\" class=\"dataframe\">\n",
       "  <thead>\n",
       "    <tr style=\"text-align: right;\">\n",
       "      <th></th>\n",
       "      <th>id_dr</th>\n",
       "      <th>area</th>\n",
       "      <th>speciality</th>\n",
       "      <th>dr_class</th>\n",
       "      <th>exam_price</th>\n",
       "      <th>clinic_hos</th>\n",
       "      <th>write</th>\n",
       "    </tr>\n",
       "  </thead>\n",
       "  <tbody>\n",
       "    <tr>\n",
       "      <th>0</th>\n",
       "      <td>1</td>\n",
       "      <td>area1</td>\n",
       "      <td>chest</td>\n",
       "      <td>a</td>\n",
       "      <td>200</td>\n",
       "      <td>clinic</td>\n",
       "      <td>1</td>\n",
       "    </tr>\n",
       "    <tr>\n",
       "      <th>1</th>\n",
       "      <td>2</td>\n",
       "      <td>area2</td>\n",
       "      <td>im</td>\n",
       "      <td>b</td>\n",
       "      <td>100</td>\n",
       "      <td>clinic</td>\n",
       "      <td>1</td>\n",
       "    </tr>\n",
       "    <tr>\n",
       "      <th>2</th>\n",
       "      <td>3</td>\n",
       "      <td>area8</td>\n",
       "      <td>chest</td>\n",
       "      <td>a</td>\n",
       "      <td>75</td>\n",
       "      <td>hospital</td>\n",
       "      <td>1</td>\n",
       "    </tr>\n",
       "    <tr>\n",
       "      <th>3</th>\n",
       "      <td>4</td>\n",
       "      <td>area5</td>\n",
       "      <td>chest</td>\n",
       "      <td>a</td>\n",
       "      <td>30</td>\n",
       "      <td>hospital</td>\n",
       "      <td>1</td>\n",
       "    </tr>\n",
       "    <tr>\n",
       "      <th>4</th>\n",
       "      <td>5</td>\n",
       "      <td>area6</td>\n",
       "      <td>uro</td>\n",
       "      <td>a</td>\n",
       "      <td>220</td>\n",
       "      <td>clinic</td>\n",
       "      <td>0</td>\n",
       "    </tr>\n",
       "  </tbody>\n",
       "</table>\n",
       "</div>"
      ],
      "text/plain": [
       "   id_dr   area speciality dr_class  exam_price clinic_hos  write\n",
       "0      1  area1      chest        a         200     clinic      1\n",
       "1      2  area2         im        b         100     clinic      1\n",
       "2      3  area8      chest        a          75   hospital      1\n",
       "3      4  area5      chest        a          30   hospital      1\n",
       "4      5  area6        uro        a         220     clinic      0"
      ]
     },
     "metadata": {},
     "output_type": "display_data"
    }
   ],
   "source": [
    "doctor_table = %sql SELECT * FROM doctor_table ;\n",
    "doctor_table = doctor_table.DataFrame()\n",
    "display(doctor_table.head())"
   ]
  },
  {
   "cell_type": "code",
   "execution_count": 213,
   "metadata": {},
   "outputs": [
    {
     "data": {
      "text/html": [
       "<div>\n",
       "<style scoped>\n",
       "    .dataframe tbody tr th:only-of-type {\n",
       "        vertical-align: middle;\n",
       "    }\n",
       "\n",
       "    .dataframe tbody tr th {\n",
       "        vertical-align: top;\n",
       "    }\n",
       "\n",
       "    .dataframe thead th {\n",
       "        text-align: right;\n",
       "    }\n",
       "</style>\n",
       "<table border=\"1\" class=\"dataframe\">\n",
       "  <thead>\n",
       "    <tr style=\"text-align: right;\">\n",
       "      <th></th>\n",
       "      <th>id_dr</th>\n",
       "      <th>area</th>\n",
       "      <th>speciality</th>\n",
       "      <th>dr_class</th>\n",
       "      <th>exam_price</th>\n",
       "      <th>clinic_hos</th>\n",
       "      <th>id_m</th>\n",
       "      <th>medicine</th>\n",
       "      <th>price</th>\n",
       "      <th>write</th>\n",
       "    </tr>\n",
       "  </thead>\n",
       "  <tbody>\n",
       "    <tr>\n",
       "      <th>0</th>\n",
       "      <td>1</td>\n",
       "      <td>area1</td>\n",
       "      <td>chest</td>\n",
       "      <td>a</td>\n",
       "      <td>200</td>\n",
       "      <td>clinic</td>\n",
       "      <td>1</td>\n",
       "      <td>type1</td>\n",
       "      <td>45</td>\n",
       "      <td>1</td>\n",
       "    </tr>\n",
       "    <tr>\n",
       "      <th>1</th>\n",
       "      <td>2</td>\n",
       "      <td>area2</td>\n",
       "      <td>im</td>\n",
       "      <td>b</td>\n",
       "      <td>100</td>\n",
       "      <td>clinic</td>\n",
       "      <td>2</td>\n",
       "      <td>type4</td>\n",
       "      <td>36</td>\n",
       "      <td>1</td>\n",
       "    </tr>\n",
       "    <tr>\n",
       "      <th>2</th>\n",
       "      <td>3</td>\n",
       "      <td>area8</td>\n",
       "      <td>chest</td>\n",
       "      <td>a</td>\n",
       "      <td>75</td>\n",
       "      <td>hospital</td>\n",
       "      <td>3</td>\n",
       "      <td>type1</td>\n",
       "      <td>45</td>\n",
       "      <td>1</td>\n",
       "    </tr>\n",
       "    <tr>\n",
       "      <th>3</th>\n",
       "      <td>4</td>\n",
       "      <td>area5</td>\n",
       "      <td>chest</td>\n",
       "      <td>a</td>\n",
       "      <td>30</td>\n",
       "      <td>hospital</td>\n",
       "      <td>4</td>\n",
       "      <td>type1</td>\n",
       "      <td>45</td>\n",
       "      <td>1</td>\n",
       "    </tr>\n",
       "    <tr>\n",
       "      <th>4</th>\n",
       "      <td>5</td>\n",
       "      <td>area6</td>\n",
       "      <td>uro</td>\n",
       "      <td>a</td>\n",
       "      <td>220</td>\n",
       "      <td>clinic</td>\n",
       "      <td>5</td>\n",
       "      <td>type5</td>\n",
       "      <td>29</td>\n",
       "      <td>0</td>\n",
       "    </tr>\n",
       "  </tbody>\n",
       "</table>\n",
       "</div>"
      ],
      "text/plain": [
       "   id_dr   area speciality dr_class  exam_price clinic_hos  id_m medicine  \\\n",
       "0      1  area1      chest        a         200     clinic     1    type1   \n",
       "1      2  area2         im        b         100     clinic     2    type4   \n",
       "2      3  area8      chest        a          75   hospital     3    type1   \n",
       "3      4  area5      chest        a          30   hospital     4    type1   \n",
       "4      5  area6        uro        a         220     clinic     5    type5   \n",
       "\n",
       "   price  write  \n",
       "0     45      1  \n",
       "1     36      1  \n",
       "2     45      1  \n",
       "3     45      1  \n",
       "4     29      0  "
      ]
     },
     "execution_count": 213,
     "metadata": {},
     "output_type": "execute_result"
    }
   ],
   "source": [
    "data = pd.concat([doctor_table, medicine_table], axis=1, ignore_index=False)\n",
    "write_col = data.pop('write')\n",
    "data['write'] = write_col\n",
    "data.head()"
   ]
  },
  {
   "cell_type": "markdown",
   "metadata": {},
   "source": [
    "## Implementation: Data Exploration\n",
    "A cursory investigation of the dataset will determine how many individuals fit into either group, and will tell us about the percentage of doctors who wrote any of the 6 drugs in their prescription. In the code cell below, i will compute the following:\n",
    "\n",
    "The total number of records, 'n_records'\n",
    "\n",
    "The number of doctors who wrote any of the 6 drugs in their prescription, 'n_doctor_who_write'.\n",
    "\n",
    "The number of doctors who didn't write any of the 6 drugs in their prescription, 'n_doctor_who_not_write'.\n",
    "\n",
    "The percentage of doctors who wrote any of the 6 drugs in their prescription, 'write_percent'."
   ]
  },
  {
   "cell_type": "markdown",
   "metadata": {},
   "source": [
    "# Second Stage: Data Exploration"
   ]
  },
  {
   "cell_type": "code",
   "execution_count": 214,
   "metadata": {},
   "outputs": [
    {
     "data": {
      "text/html": [
       "<div>\n",
       "<style scoped>\n",
       "    .dataframe tbody tr th:only-of-type {\n",
       "        vertical-align: middle;\n",
       "    }\n",
       "\n",
       "    .dataframe tbody tr th {\n",
       "        vertical-align: top;\n",
       "    }\n",
       "\n",
       "    .dataframe thead th {\n",
       "        text-align: right;\n",
       "    }\n",
       "</style>\n",
       "<table border=\"1\" class=\"dataframe\">\n",
       "  <thead>\n",
       "    <tr style=\"text-align: right;\">\n",
       "      <th></th>\n",
       "      <th>id_dr</th>\n",
       "      <th>exam_price</th>\n",
       "      <th>id_m</th>\n",
       "      <th>price</th>\n",
       "      <th>write</th>\n",
       "    </tr>\n",
       "  </thead>\n",
       "  <tbody>\n",
       "    <tr>\n",
       "      <th>count</th>\n",
       "      <td>390.000000</td>\n",
       "      <td>390.000000</td>\n",
       "      <td>390.000000</td>\n",
       "      <td>390.000000</td>\n",
       "      <td>390.000000</td>\n",
       "    </tr>\n",
       "    <tr>\n",
       "      <th>mean</th>\n",
       "      <td>195.500000</td>\n",
       "      <td>121.205128</td>\n",
       "      <td>195.500000</td>\n",
       "      <td>35.715385</td>\n",
       "      <td>0.587179</td>\n",
       "    </tr>\n",
       "    <tr>\n",
       "      <th>std</th>\n",
       "      <td>112.727548</td>\n",
       "      <td>86.729844</td>\n",
       "      <td>112.727548</td>\n",
       "      <td>8.751263</td>\n",
       "      <td>0.492974</td>\n",
       "    </tr>\n",
       "    <tr>\n",
       "      <th>min</th>\n",
       "      <td>1.000000</td>\n",
       "      <td>30.000000</td>\n",
       "      <td>1.000000</td>\n",
       "      <td>20.000000</td>\n",
       "      <td>0.000000</td>\n",
       "    </tr>\n",
       "    <tr>\n",
       "      <th>25%</th>\n",
       "      <td>98.250000</td>\n",
       "      <td>50.000000</td>\n",
       "      <td>98.250000</td>\n",
       "      <td>29.000000</td>\n",
       "      <td>0.000000</td>\n",
       "    </tr>\n",
       "    <tr>\n",
       "      <th>50%</th>\n",
       "      <td>195.500000</td>\n",
       "      <td>80.000000</td>\n",
       "      <td>195.500000</td>\n",
       "      <td>36.000000</td>\n",
       "      <td>1.000000</td>\n",
       "    </tr>\n",
       "    <tr>\n",
       "      <th>75%</th>\n",
       "      <td>292.750000</td>\n",
       "      <td>170.000000</td>\n",
       "      <td>292.750000</td>\n",
       "      <td>45.000000</td>\n",
       "      <td>1.000000</td>\n",
       "    </tr>\n",
       "    <tr>\n",
       "      <th>max</th>\n",
       "      <td>390.000000</td>\n",
       "      <td>350.000000</td>\n",
       "      <td>390.000000</td>\n",
       "      <td>45.000000</td>\n",
       "      <td>1.000000</td>\n",
       "    </tr>\n",
       "  </tbody>\n",
       "</table>\n",
       "</div>"
      ],
      "text/plain": [
       "            id_dr  exam_price        id_m       price       write\n",
       "count  390.000000  390.000000  390.000000  390.000000  390.000000\n",
       "mean   195.500000  121.205128  195.500000   35.715385    0.587179\n",
       "std    112.727548   86.729844  112.727548    8.751263    0.492974\n",
       "min      1.000000   30.000000    1.000000   20.000000    0.000000\n",
       "25%     98.250000   50.000000   98.250000   29.000000    0.000000\n",
       "50%    195.500000   80.000000  195.500000   36.000000    1.000000\n",
       "75%    292.750000  170.000000  292.750000   45.000000    1.000000\n",
       "max    390.000000  350.000000  390.000000   45.000000    1.000000"
      ]
     },
     "execution_count": 214,
     "metadata": {},
     "output_type": "execute_result"
    }
   ],
   "source": [
    "data.describe()"
   ]
  },
  {
   "cell_type": "code",
   "execution_count": 215,
   "metadata": {},
   "outputs": [
    {
     "name": "stdout",
     "output_type": "stream",
     "text": [
      "<class 'pandas.core.frame.DataFrame'>\n",
      "RangeIndex: 390 entries, 0 to 389\n",
      "Data columns (total 10 columns):\n",
      "id_dr         390 non-null int64\n",
      "area          390 non-null object\n",
      "speciality    390 non-null object\n",
      "dr_class      390 non-null object\n",
      "exam_price    390 non-null int64\n",
      "clinic_hos    390 non-null object\n",
      "id_m          390 non-null int64\n",
      "medicine      390 non-null object\n",
      "price         390 non-null int64\n",
      "write         390 non-null int64\n",
      "dtypes: int64(5), object(5)\n",
      "memory usage: 30.5+ KB\n"
     ]
    }
   ],
   "source": [
    "data.info()"
   ]
  },
  {
   "cell_type": "code",
   "execution_count": 216,
   "metadata": {},
   "outputs": [
    {
     "name": "stdout",
     "output_type": "stream",
     "text": [
      "The total number of records is: 390\n",
      "The number of doctors who wrote any of the 6 drugs in their prescription: 229\n",
      "The number of doctors who didn't write any of the 6 drugs in their prescription: 161\n",
      "The percentage of doctors who wrote any of the 6 drugs in their prescription: 58.71794871794872 %\n"
     ]
    }
   ],
   "source": [
    "print(\"The total number of records is:\", data.shape[0])\n",
    "print(\"The number of doctors who wrote any of the 6 drugs in their prescription:\", data[data['write']==1].shape[0])\n",
    "print(\"The number of doctors who didn't write any of the 6 drugs in their prescription:\", data[data['write']==0].shape[0])\n",
    "print(\"The percentage of doctors who wrote any of the 6 drugs in their prescription:\", (data[data['write']==1].shape[0]/data.shape[0])*100, \"%\")"
   ]
  },
  {
   "cell_type": "markdown",
   "metadata": {},
   "source": [
    "# Third Stage: Data Cleaning"
   ]
  },
  {
   "cell_type": "markdown",
   "metadata": {},
   "source": [
    "### The dataset does not have null values"
   ]
  },
  {
   "cell_type": "markdown",
   "metadata": {},
   "source": [
    "### Check for duplicated data"
   ]
  },
  {
   "cell_type": "code",
   "execution_count": 217,
   "metadata": {},
   "outputs": [
    {
     "data": {
      "text/plain": [
       "False    390\n",
       "dtype: int64"
      ]
     },
     "execution_count": 217,
     "metadata": {},
     "output_type": "execute_result"
    }
   ],
   "source": [
    "data.duplicated().value_counts()"
   ]
  },
  {
   "cell_type": "markdown",
   "metadata": {},
   "source": [
    "### The dataset does not have duplicated data"
   ]
  },
  {
   "cell_type": "code",
   "execution_count": 218,
   "metadata": {},
   "outputs": [
    {
     "data": {
      "text/plain": [
       "(390, 10)"
      ]
     },
     "execution_count": 218,
     "metadata": {},
     "output_type": "execute_result"
    }
   ],
   "source": [
    "data.drop_duplicates(inplace=True)\n",
    "data.shape"
   ]
  },
  {
   "cell_type": "markdown",
   "metadata": {},
   "source": [
    "### Remove 'id_dr' and 'id_m' columns as they are the same and meaningless for the dataset"
   ]
  },
  {
   "cell_type": "code",
   "execution_count": 219,
   "metadata": {},
   "outputs": [
    {
     "data": {
      "text/html": [
       "<div>\n",
       "<style scoped>\n",
       "    .dataframe tbody tr th:only-of-type {\n",
       "        vertical-align: middle;\n",
       "    }\n",
       "\n",
       "    .dataframe tbody tr th {\n",
       "        vertical-align: top;\n",
       "    }\n",
       "\n",
       "    .dataframe thead th {\n",
       "        text-align: right;\n",
       "    }\n",
       "</style>\n",
       "<table border=\"1\" class=\"dataframe\">\n",
       "  <thead>\n",
       "    <tr style=\"text-align: right;\">\n",
       "      <th></th>\n",
       "      <th>area</th>\n",
       "      <th>speciality</th>\n",
       "      <th>dr_class</th>\n",
       "      <th>exam_price</th>\n",
       "      <th>clinic_hos</th>\n",
       "      <th>medicine</th>\n",
       "      <th>price</th>\n",
       "      <th>write</th>\n",
       "    </tr>\n",
       "  </thead>\n",
       "  <tbody>\n",
       "    <tr>\n",
       "      <th>0</th>\n",
       "      <td>area1</td>\n",
       "      <td>chest</td>\n",
       "      <td>a</td>\n",
       "      <td>200</td>\n",
       "      <td>clinic</td>\n",
       "      <td>type1</td>\n",
       "      <td>45</td>\n",
       "      <td>1</td>\n",
       "    </tr>\n",
       "    <tr>\n",
       "      <th>1</th>\n",
       "      <td>area2</td>\n",
       "      <td>im</td>\n",
       "      <td>b</td>\n",
       "      <td>100</td>\n",
       "      <td>clinic</td>\n",
       "      <td>type4</td>\n",
       "      <td>36</td>\n",
       "      <td>1</td>\n",
       "    </tr>\n",
       "    <tr>\n",
       "      <th>2</th>\n",
       "      <td>area8</td>\n",
       "      <td>chest</td>\n",
       "      <td>a</td>\n",
       "      <td>75</td>\n",
       "      <td>hospital</td>\n",
       "      <td>type1</td>\n",
       "      <td>45</td>\n",
       "      <td>1</td>\n",
       "    </tr>\n",
       "    <tr>\n",
       "      <th>3</th>\n",
       "      <td>area5</td>\n",
       "      <td>chest</td>\n",
       "      <td>a</td>\n",
       "      <td>30</td>\n",
       "      <td>hospital</td>\n",
       "      <td>type1</td>\n",
       "      <td>45</td>\n",
       "      <td>1</td>\n",
       "    </tr>\n",
       "    <tr>\n",
       "      <th>4</th>\n",
       "      <td>area6</td>\n",
       "      <td>uro</td>\n",
       "      <td>a</td>\n",
       "      <td>220</td>\n",
       "      <td>clinic</td>\n",
       "      <td>type5</td>\n",
       "      <td>29</td>\n",
       "      <td>0</td>\n",
       "    </tr>\n",
       "  </tbody>\n",
       "</table>\n",
       "</div>"
      ],
      "text/plain": [
       "    area speciality dr_class  exam_price clinic_hos medicine  price  write\n",
       "0  area1      chest        a         200     clinic    type1     45      1\n",
       "1  area2         im        b         100     clinic    type4     36      1\n",
       "2  area8      chest        a          75   hospital    type1     45      1\n",
       "3  area5      chest        a          30   hospital    type1     45      1\n",
       "4  area6        uro        a         220     clinic    type5     29      0"
      ]
     },
     "execution_count": 219,
     "metadata": {},
     "output_type": "execute_result"
    }
   ],
   "source": [
    "data.drop(['id_dr', 'id_m'], axis=1, inplace=True)\n",
    "data.head()"
   ]
  },
  {
   "cell_type": "markdown",
   "metadata": {},
   "source": [
    "# Fourth Stage: Date Analysis"
   ]
  },
  {
   "cell_type": "code",
   "execution_count": 220,
   "metadata": {},
   "outputs": [
    {
     "data": {
      "image/png": "[encoded data removed]",
      "text/plain": [
       "<matplotlib.figure.Figure at 0x19faf8599e8>"
      ]
     },
     "metadata": {
      "needs_background": "light"
     },
     "output_type": "display_data"
    }
   ],
   "source": [
    "sb.countplot(data=data, x='write');\n",
    "plt.title(\"Number of doctors who write and not write\");"
   ]
  },
  {
   "cell_type": "markdown",
   "metadata": {},
   "source": [
    "# This graph shows that:\n",
    "Number of doctors who prescripe the company's medicines for thier patients are more than who do not prescripe."
   ]
  },
  {
   "cell_type": "code",
   "execution_count": 221,
   "metadata": {},
   "outputs": [
    {
     "data": {
      "image/png": "[encoded data removed]",
      "text/plain": [
       "<matplotlib.figure.Figure at 0x19faf346dd8>"
      ]
     },
     "metadata": {
      "needs_background": "light"
     },
     "output_type": "display_data"
    }
   ],
   "source": [
    "plt.figure(figsize=[25, 50])\n",
    "doctors_write = data[data['write'] == 1].copy()\n",
    "for i in range(data.shape[1]-1):\n",
    "    plt.subplot(data.shape[1] - 1, 1, i+1)\n",
    "    sb.countplot(data=doctors_write, x=data.columns[i])\n",
    "    plt.xlabel(f\"{data.columns[i]}\"); plt.ylabel(\"count\")\n",
    "    if(i == 5):\n",
    "        plt.title(\"Medicine Type\")\n",
    "    elif(i == 6):\n",
    "        plt.title(\"Medicine Price\")\n",
    "    else:\n",
    "        plt.title(\"Doctors write the company's medicines in their prescriptions\")"
   ]
  },
  {
   "cell_type": "markdown",
   "metadata": {},
   "source": [
    "# The previous graphs shows that:\n",
    "1- Doctors in 'area2' are the most ones who prescribe the company's medicines for their patients, followed by 'area8' then 'area5'.\n",
    "\n",
    "2- Doctors whose specialization is 'im' (internal medicine specialist) are the most ones who prescribe the company's medicines for their patients.\n",
    "\n",
    "3- Doctors with class 'b' are the most ones who prescribe the company's medicines for their patients.\n",
    "\n",
    "4- Doctors whose examination price is '30' or '50' are the most ones who prescribe the company's medicines for their patients, followed by '75'.\n",
    " \n",
    "**which means that doctors with cheapest examination price are the most ones who prescribe the company's medicines for their patients**.\n",
    "\n",
    "5- Doctors who work at hospitals are little bit more than doctors who work at clinics in prescriping the company's medicines for their patients.\n",
    "\n",
    "6- Medicine of 'type1' are the most written in the doctors prescriptions for patients.\n",
    "\n",
    "7- Medicine of price '45' pounds (which is of 'type1') are the most written in the doctors prescriptions for patients.\n",
    "\n",
    "**Which means that the most expensive medicine between all company's medicine is the most written in the doctors prescriptions for patients**."
   ]
  },
  {
   "cell_type": "code",
   "execution_count": 222,
   "metadata": {},
   "outputs": [
    {
     "data": {
      "text/plain": [
       "<matplotlib.axes._subplots.AxesSubplot at 0x19fa9987080>"
      ]
     },
     "execution_count": 222,
     "metadata": {},
     "output_type": "execute_result"
    },
    {
     "data": {
      "image/png": "[encoded data removed]",
      "text/plain": [
       "<matplotlib.figure.Figure at 0x19fa9987518>"
      ]
     },
     "metadata": {
      "needs_background": "light"
     },
     "output_type": "display_data"
    }
   ],
   "source": [
    "import matplotlib.ticker as ticker\n",
    "plt.figure(figsize=[25,10])\n",
    "plt.title(\"Statistics about number of doctors who prescripe the company's medicines and area according to doctors specializations\")\n",
    "plt.gca().yaxis.set_major_locator(ticker.MaxNLocator(integer=True))\n",
    "sb.countplot(data=doctors_write, x='area', hue='speciality', palette=['red', 'green', 'blue', 'yellow', 'pink', 'maroon', 'purple', 'cyan', 'magenta', 'gray', 'chocolate'])"
   ]
  },
  {
   "cell_type": "markdown",
   "metadata": {},
   "source": [
    "# This graph shows statistics that relate the number of doctors who write company's medicines in each area according to the speciality, and we find that:\n",
    "1- At 'area1', 'area2', 'area3', 'area4', 'area6', and 'area8', docotrs who are specialists at 'im' are the most ones who write the company's medicines in their prescriptions for their patients.\n",
    "\n",
    "**Which means that the company's medicines at 'im' (internal medicine specialist) specialization are the most effective between the other medicines**.\n",
    "\n",
    "2- In 'area5', docotrs who are specialists at 'git' (gastrointestinal tract specialist) are the most ones who write the company's medicines in their prescriptions for their patients.\n",
    "\n",
    "3- In 'area7', docotrs who are specialists at 'gp' (general practitioner) are the most ones who write the company's medicines in their prescriptions for their patients.\n",
    "\n",
    "4- Docotrs who are specialists at 'vas' (vascular specialst) are the least ones between doctors who write the company's medicines in their prescriptions for their patients.\n",
    "\n",
    "**Which means that the company's medicines at 'vas' specialization are not effective enough**."
   ]
  },
  {
   "cell_type": "code",
   "execution_count": 223,
   "metadata": {},
   "outputs": [
    {
     "data": {
      "text/plain": [
       "Text(0.5,0,'Medicine Type')"
      ]
     },
     "execution_count": 223,
     "metadata": {},
     "output_type": "execute_result"
    },
    {
     "data": {
      "image/png": "[encoded data removed]",
      "text/plain": [
       "<matplotlib.figure.Figure at 0x19faa24ada0>"
      ]
     },
     "metadata": {
      "needs_background": "light"
     },
     "output_type": "display_data"
    }
   ],
   "source": [
    "plt.figure(figsize=[25,10])\n",
    "plt.title(\"Statistics about number of doctors who prescripe the company's medicines and medicine types according to doctors specializations\");\n",
    "sb.countplot(data=doctors_write, x='medicine', hue='speciality', palette=['red', 'green', 'blue', 'yellow', 'pink', 'maroon', 'purple', 'cyan', 'magenta', 'gray', 'chocolate'])\n",
    "plt.xlabel(\"Medicine Type\")"
   ]
  },
  {
   "cell_type": "markdown",
   "metadata": {},
   "source": [
    "# This graphs shows that:\n",
    "1- Medicines of 'type1', 'type4', and 'type6' are mostly written by doctors who are specialists at 'im' (internal medicine specialist)\n",
    "\n",
    "**Which means that for this type of medical deseases medicine of 'type1' is the most written by doctors between all the company's medicines**.\n",
    "\n",
    "2- Medicine of 'type5' is the most written by doctors who are specialists at 'sur' (surgery specialist), followed by 'chest' specialists\n",
    "\n",
    "3- Medicines of 'type2' and 'type3' are the most written by doctors who are specialists at 'cd' (cardiology specialist), followed by 'im' specialists"
   ]
  },
  {
   "cell_type": "code",
   "execution_count": 224,
   "metadata": {},
   "outputs": [
    {
     "name": "stderr",
     "output_type": "stream",
     "text": [
      "c:\\ProgramData\\anaconda3\\envs\\Abdo_Halem\\lib\\site-packages\\scipy\\stats\\stats.py:1713: FutureWarning: Using a non-tuple sequence for multidimensional indexing is deprecated; use `arr[tuple(seq)]` instead of `arr[seq]`. In the future this will be interpreted as an array index, `arr[np.array(seq)]`, which will result either in an error or a different result.\n",
      "  return np.add.reduce(sorted[indexer] * weights, axis=axis) / sumval\n"
     ]
    },
    {
     "data": {
      "image/png": "[encoded data removed]",
      "text/plain": [
       "<matplotlib.figure.Figure at 0x19faa37b080>"
      ]
     },
     "metadata": {
      "needs_background": "light"
     },
     "output_type": "display_data"
    }
   ],
   "source": [
    "plt.figure(figsize=[15,5])\n",
    "sb.regplot(data=data, x='exam_price', y='write')\n",
    "plt.title(\"Relation between number of doctors who prescripe the company's medicines and their examination price\");\n",
    "plt.xlabel(\"Examination Price\");"
   ]
  },
  {
   "cell_type": "markdown",
   "metadata": {},
   "source": [
    "# This graphs shows the linear relation between number of doctors who prescripe the company's medicines and their examination price, and shows that:\n",
    "The higher the examination price, the fewer the number of doctors prescriping the company's medicines, as it has a negative slope."
   ]
  },
  {
   "cell_type": "code",
   "execution_count": 225,
   "metadata": {},
   "outputs": [
    {
     "name": "stdout",
     "output_type": "stream",
     "text": [
      "Correlation between 'prescriping the medicines' and 'examination price': -0.31210961197240983\n"
     ]
    }
   ],
   "source": [
    "print(\"Correlation between 'prescriping the medicines' and 'examination price':\", data['exam_price'].corr(data['write']))"
   ]
  },
  {
   "cell_type": "markdown",
   "metadata": {},
   "source": [
    "### The correlation means that this inverse relation is a weak relation"
   ]
  },
  {
   "cell_type": "code",
   "execution_count": 226,
   "metadata": {},
   "outputs": [
    {
     "data": {
      "text/plain": [
       "<matplotlib.axes._subplots.AxesSubplot at 0x19faa371cc0>"
      ]
     },
     "execution_count": 226,
     "metadata": {},
     "output_type": "execute_result"
    },
    {
     "data": {
      "image/png": "[encoded data removed]",
      "text/plain": [
       "<matplotlib.figure.Figure at 0x19fa8c2b470>"
      ]
     },
     "metadata": {
      "needs_background": "light"
     },
     "output_type": "display_data"
    }
   ],
   "source": [
    "plt.figure(figsize=[25,10])\n",
    "plt.title(\"Statistics about number of doctors who prescripe the company's medicines and area according to doctors class\")\n",
    "sb.countplot(data=doctors_write, x='area', hue='dr_class', palette=['purple', 'cyan'])"
   ]
  },
  {
   "cell_type": "markdown",
   "metadata": {},
   "source": [
    "### This bar chart shows that doctors of class 'b' are the most ones who prescripe the company's medicines for their patients at all areas\n",
    "**Which means that young doctos or doctors who are at the beginning of their career are more expected to prescripe the company's medicine than famous or expert doctors**."
   ]
  },
  {
   "cell_type": "code",
   "execution_count": 227,
   "metadata": {},
   "outputs": [
    {
     "data": {
      "image/png": "[encoded data removed]",
      "text/plain": [
       "<matplotlib.figure.Figure at 0x19faa4467f0>"
      ]
     },
     "metadata": {
      "needs_background": "light"
     },
     "output_type": "display_data"
    }
   ],
   "source": [
    "plt.figure(figsize=[25,10])\n",
    "plt.title(\"Statistics about number of doctors prescriping the company's medicines and area according to doctors' work place\")\n",
    "sb.countplot(data=doctors_write, x='area', hue='clinic_hos', palette=['red', 'blue']);"
   ]
  },
  {
   "cell_type": "markdown",
   "metadata": {},
   "source": [
    "# This bar chart shows that:\n",
    "1- At 'area1', 'area6', 'area7', and 'area6', all the doctors who prescripe the company's medicine for their patients work at clinics, except 'area6' there is a small number of doctors who prescripe the company's medicines.\n",
    "\n",
    "**Which means that doctors who work at hospital in these 3 areas are not expected to prescripe the medicines**.\n",
    "\n",
    "2- Doctors at 'area2', 'area4', 'area5', and 'area8' and work at hospitals, are the most ones who prescriping the company's medicine for their patients."
   ]
  },
  {
   "cell_type": "markdown",
   "metadata": {},
   "source": [
    "# Fifth Stage: Data Preprocessing"
   ]
  },
  {
   "cell_type": "markdown",
   "metadata": {},
   "source": [
    "### Step 1: Handling Skewed Data"
   ]
  },
  {
   "cell_type": "code",
   "execution_count": 228,
   "metadata": {},
   "outputs": [
    {
     "data": {
      "text/html": [
       "<div>\n",
       "<style scoped>\n",
       "    .dataframe tbody tr th:only-of-type {\n",
       "        vertical-align: middle;\n",
       "    }\n",
       "\n",
       "    .dataframe tbody tr th {\n",
       "        vertical-align: top;\n",
       "    }\n",
       "\n",
       "    .dataframe thead th {\n",
       "        text-align: right;\n",
       "    }\n",
       "</style>\n",
       "<table border=\"1\" class=\"dataframe\">\n",
       "  <thead>\n",
       "    <tr style=\"text-align: right;\">\n",
       "      <th></th>\n",
       "      <th>exam_price</th>\n",
       "      <th>price</th>\n",
       "      <th>write</th>\n",
       "    </tr>\n",
       "  </thead>\n",
       "  <tbody>\n",
       "    <tr>\n",
       "      <th>0</th>\n",
       "      <td>200</td>\n",
       "      <td>45</td>\n",
       "      <td>1</td>\n",
       "    </tr>\n",
       "    <tr>\n",
       "      <th>1</th>\n",
       "      <td>100</td>\n",
       "      <td>36</td>\n",
       "      <td>1</td>\n",
       "    </tr>\n",
       "    <tr>\n",
       "      <th>2</th>\n",
       "      <td>75</td>\n",
       "      <td>45</td>\n",
       "      <td>1</td>\n",
       "    </tr>\n",
       "    <tr>\n",
       "      <th>3</th>\n",
       "      <td>30</td>\n",
       "      <td>45</td>\n",
       "      <td>1</td>\n",
       "    </tr>\n",
       "    <tr>\n",
       "      <th>4</th>\n",
       "      <td>220</td>\n",
       "      <td>29</td>\n",
       "      <td>0</td>\n",
       "    </tr>\n",
       "  </tbody>\n",
       "</table>\n",
       "</div>"
      ],
      "text/plain": [
       "   exam_price  price  write\n",
       "0         200     45      1\n",
       "1         100     36      1\n",
       "2          75     45      1\n",
       "3          30     45      1\n",
       "4         220     29      0"
      ]
     },
     "execution_count": 228,
     "metadata": {},
     "output_type": "execute_result"
    }
   ],
   "source": [
    "# Get the numerical data only from data DataFrame\n",
    "data_numerical = data.select_dtypes(include= ['float64', 'int64']).copy()\n",
    "data_numerical.head()"
   ]
  },
  {
   "cell_type": "code",
   "execution_count": 229,
   "metadata": {},
   "outputs": [
    {
     "data": {
      "image/png": "[encoded data removed]",
      "text/plain": [
       "<matplotlib.figure.Figure at 0x19faa4abc88>"
      ]
     },
     "metadata": {
      "needs_background": "light"
     },
     "output_type": "display_data"
    }
   ],
   "source": [
    "plt.figure(figsize=[25,5])\n",
    "for i in range(0, 3):\n",
    "    plt.subplot(1, 3, i+1)\n",
    "    column = data[data_numerical.columns[i]]\n",
    "    sb.distplot(column)\n",
    "    plt.title(f\"Skewness = {column.skew()}\")"
   ]
  },
  {
   "cell_type": "markdown",
   "metadata": {},
   "source": [
    "#### The skewness is small enough to be accepted"
   ]
  },
  {
   "cell_type": "markdown",
   "metadata": {},
   "source": [
    "### Step 2: Normalization (Using MinMaxScaler for numerical data only)"
   ]
  },
  {
   "cell_type": "code",
   "execution_count": 230,
   "metadata": {},
   "outputs": [
    {
     "data": {
      "text/html": [
       "<div>\n",
       "<style scoped>\n",
       "    .dataframe tbody tr th:only-of-type {\n",
       "        vertical-align: middle;\n",
       "    }\n",
       "\n",
       "    .dataframe tbody tr th {\n",
       "        vertical-align: top;\n",
       "    }\n",
       "\n",
       "    .dataframe thead th {\n",
       "        text-align: right;\n",
       "    }\n",
       "</style>\n",
       "<table border=\"1\" class=\"dataframe\">\n",
       "  <thead>\n",
       "    <tr style=\"text-align: right;\">\n",
       "      <th></th>\n",
       "      <th>area</th>\n",
       "      <th>speciality</th>\n",
       "      <th>dr_class</th>\n",
       "      <th>exam_price</th>\n",
       "      <th>clinic_hos</th>\n",
       "      <th>medicine</th>\n",
       "      <th>price</th>\n",
       "      <th>write</th>\n",
       "    </tr>\n",
       "  </thead>\n",
       "  <tbody>\n",
       "    <tr>\n",
       "      <th>0</th>\n",
       "      <td>area1</td>\n",
       "      <td>chest</td>\n",
       "      <td>a</td>\n",
       "      <td>0.531250</td>\n",
       "      <td>clinic</td>\n",
       "      <td>type1</td>\n",
       "      <td>1.00</td>\n",
       "      <td>1.0</td>\n",
       "    </tr>\n",
       "    <tr>\n",
       "      <th>1</th>\n",
       "      <td>area2</td>\n",
       "      <td>im</td>\n",
       "      <td>b</td>\n",
       "      <td>0.218750</td>\n",
       "      <td>clinic</td>\n",
       "      <td>type4</td>\n",
       "      <td>0.64</td>\n",
       "      <td>1.0</td>\n",
       "    </tr>\n",
       "    <tr>\n",
       "      <th>2</th>\n",
       "      <td>area8</td>\n",
       "      <td>chest</td>\n",
       "      <td>a</td>\n",
       "      <td>0.140625</td>\n",
       "      <td>hospital</td>\n",
       "      <td>type1</td>\n",
       "      <td>1.00</td>\n",
       "      <td>1.0</td>\n",
       "    </tr>\n",
       "    <tr>\n",
       "      <th>3</th>\n",
       "      <td>area5</td>\n",
       "      <td>chest</td>\n",
       "      <td>a</td>\n",
       "      <td>0.000000</td>\n",
       "      <td>hospital</td>\n",
       "      <td>type1</td>\n",
       "      <td>1.00</td>\n",
       "      <td>1.0</td>\n",
       "    </tr>\n",
       "    <tr>\n",
       "      <th>4</th>\n",
       "      <td>area6</td>\n",
       "      <td>uro</td>\n",
       "      <td>a</td>\n",
       "      <td>0.593750</td>\n",
       "      <td>clinic</td>\n",
       "      <td>type5</td>\n",
       "      <td>0.36</td>\n",
       "      <td>0.0</td>\n",
       "    </tr>\n",
       "  </tbody>\n",
       "</table>\n",
       "</div>"
      ],
      "text/plain": [
       "    area speciality dr_class  exam_price clinic_hos medicine  price  write\n",
       "0  area1      chest        a    0.531250     clinic    type1   1.00    1.0\n",
       "1  area2         im        b    0.218750     clinic    type4   0.64    1.0\n",
       "2  area8      chest        a    0.140625   hospital    type1   1.00    1.0\n",
       "3  area5      chest        a    0.000000   hospital    type1   1.00    1.0\n",
       "4  area6        uro        a    0.593750     clinic    type5   0.36    0.0"
      ]
     },
     "execution_count": 230,
     "metadata": {},
     "output_type": "execute_result"
    }
   ],
   "source": [
    "# Normalize the numerical data only in the DataFrame\n",
    "from sklearn.preprocessing import MinMaxScaler      #range from 0 to 1\n",
    "normalizer = MinMaxScaler()\n",
    "data_normalized = data.copy()\n",
    "data_normalized[data_numerical.columns] = normalizer.fit_transform(data_normalized[data_numerical.columns])\n",
    "data_normalized.head()"
   ]
  },
  {
   "cell_type": "markdown",
   "metadata": {},
   "source": [
    "# Step 3: Get correlation between each numerical column and 'write' column"
   ]
  },
  {
   "cell_type": "code",
   "execution_count": 231,
   "metadata": {},
   "outputs": [
    {
     "data": {
      "text/html": [
       "<div>\n",
       "<style scoped>\n",
       "    .dataframe tbody tr th:only-of-type {\n",
       "        vertical-align: middle;\n",
       "    }\n",
       "\n",
       "    .dataframe tbody tr th {\n",
       "        vertical-align: top;\n",
       "    }\n",
       "\n",
       "    .dataframe thead th {\n",
       "        text-align: right;\n",
       "    }\n",
       "</style>\n",
       "<table border=\"1\" class=\"dataframe\">\n",
       "  <thead>\n",
       "    <tr style=\"text-align: right;\">\n",
       "      <th></th>\n",
       "      <th>exam_price</th>\n",
       "      <th>price</th>\n",
       "      <th>write</th>\n",
       "    </tr>\n",
       "  </thead>\n",
       "  <tbody>\n",
       "    <tr>\n",
       "      <th>0</th>\n",
       "      <td>0.531250</td>\n",
       "      <td>1.00</td>\n",
       "      <td>1.0</td>\n",
       "    </tr>\n",
       "    <tr>\n",
       "      <th>1</th>\n",
       "      <td>0.218750</td>\n",
       "      <td>0.64</td>\n",
       "      <td>1.0</td>\n",
       "    </tr>\n",
       "    <tr>\n",
       "      <th>2</th>\n",
       "      <td>0.140625</td>\n",
       "      <td>1.00</td>\n",
       "      <td>1.0</td>\n",
       "    </tr>\n",
       "    <tr>\n",
       "      <th>3</th>\n",
       "      <td>0.000000</td>\n",
       "      <td>1.00</td>\n",
       "      <td>1.0</td>\n",
       "    </tr>\n",
       "    <tr>\n",
       "      <th>4</th>\n",
       "      <td>0.593750</td>\n",
       "      <td>0.36</td>\n",
       "      <td>0.0</td>\n",
       "    </tr>\n",
       "  </tbody>\n",
       "</table>\n",
       "</div>"
      ],
      "text/plain": [
       "   exam_price  price  write\n",
       "0    0.531250   1.00    1.0\n",
       "1    0.218750   0.64    1.0\n",
       "2    0.140625   1.00    1.0\n",
       "3    0.000000   1.00    1.0\n",
       "4    0.593750   0.36    0.0"
      ]
     },
     "execution_count": 231,
     "metadata": {},
     "output_type": "execute_result"
    }
   ],
   "source": [
    "data_numerical = data_normalized.select_dtypes(include= ['float64', 'int64']).copy()\n",
    "data_numerical.head()"
   ]
  },
  {
   "cell_type": "code",
   "execution_count": 232,
   "metadata": {},
   "outputs": [
    {
     "name": "stderr",
     "output_type": "stream",
     "text": [
      "c:\\ProgramData\\anaconda3\\envs\\Abdo_Halem\\lib\\site-packages\\scipy\\stats\\stats.py:1713: FutureWarning: Using a non-tuple sequence for multidimensional indexing is deprecated; use `arr[tuple(seq)]` instead of `arr[seq]`. In the future this will be interpreted as an array index, `arr[np.array(seq)]`, which will result either in an error or a different result.\n",
      "  return np.add.reduce(sorted[indexer] * weights, axis=axis) / sumval\n"
     ]
    },
    {
     "data": {
      "image/png": "[encoded data removed]",
      "text/plain": [
       "<matplotlib.figure.Figure at 0x19fadc86d30>"
      ]
     },
     "metadata": {
      "needs_background": "light"
     },
     "output_type": "display_data"
    }
   ],
   "source": [
    "# Show correlation and outliers first by data visualization\n",
    "plt.figure(figsize = [25, 5])\n",
    "\n",
    "# Calculate the correlation for each column with \"income\" column\n",
    "corr = data_normalized.corr()['write']\n",
    "for i in range(0, len(data_numerical.columns)-1):     # range 0 to 6\n",
    "    plt.subplot(1, len(data_numerical.columns)-1, 1+i)\n",
    "    sb.regplot(data = data_normalized[data_numerical.columns], x = data_numerical.columns[i], y = 'write');\n",
    "    plt.xlabel(data_numerical.columns[i])\n",
    "    plt.ylabel('income')\n",
    "    plt.title(f\"Correlation = {corr[i]}\")"
   ]
  },
  {
   "cell_type": "markdown",
   "metadata": {},
   "source": [
    "### The correlation between 'exam_price', 'medicine_price' and 'wite' column are low "
   ]
  },
  {
   "cell_type": "markdown",
   "metadata": {},
   "source": [
    "# Step 4: Convert Categorical Data into Numerical using One-Hot Encoding from sklearn Library"
   ]
  },
  {
   "cell_type": "markdown",
   "metadata": {},
   "source": [
    "### First: Get Categorical Data"
   ]
  },
  {
   "cell_type": "code",
   "execution_count": 233,
   "metadata": {},
   "outputs": [
    {
     "data": {
      "text/plain": [
       "Index(['area', 'speciality', 'dr_class', 'clinic_hos', 'medicine'], dtype='object')"
      ]
     },
     "execution_count": 233,
     "metadata": {},
     "output_type": "execute_result"
    }
   ],
   "source": [
    "catg_col = data_normalized.drop(data_numerical.columns, axis=1).columns\n",
    "catg_col"
   ]
  },
  {
   "cell_type": "code",
   "execution_count": 234,
   "metadata": {},
   "outputs": [
    {
     "data": {
      "text/plain": [
       "array([[1., 0., 0., ..., 0., 0., 0.],\n",
       "       [0., 1., 0., ..., 1., 0., 0.],\n",
       "       [0., 0., 0., ..., 0., 0., 0.],\n",
       "       ...,\n",
       "       [0., 0., 0., ..., 0., 0., 0.],\n",
       "       [0., 0., 0., ..., 0., 0., 0.],\n",
       "       [1., 0., 0., ..., 0., 0., 0.]])"
      ]
     },
     "execution_count": 234,
     "metadata": {},
     "output_type": "execute_result"
    }
   ],
   "source": [
    "from sklearn.preprocessing import OneHotEncoder\n",
    "encoder = OneHotEncoder(sparse=False, handle_unknown='ignore')\n",
    "# Fit and transform the data\n",
    "features_cat = encoder.fit_transform(data_normalized[catg_col])\n",
    "features_cat"
   ]
  },
  {
   "cell_type": "code",
   "execution_count": 235,
   "metadata": {},
   "outputs": [
    {
     "data": {
      "text/plain": [
       "array(['area_area1', 'area_area2', 'area_area3', 'area_area4',\n",
       "       'area_area5', 'area_area6', 'area_area7', 'area_area8',\n",
       "       'speciality_cd', 'speciality_chest', 'speciality_ent',\n",
       "       'speciality_git', 'speciality_gp', 'speciality_im',\n",
       "       'speciality_neuro', 'speciality_or', 'speciality_sur',\n",
       "       'speciality_uro', 'speciality_vas', 'dr_class_a', 'dr_class_b',\n",
       "       'clinic_hos_clinic', 'clinic_hos_hospital', 'medicine_type1',\n",
       "       'medicine_type2', 'medicine_type3', 'medicine_type4',\n",
       "       'medicine_type5', 'medicine_type6'], dtype=object)"
      ]
     },
     "execution_count": 235,
     "metadata": {},
     "output_type": "execute_result"
    }
   ],
   "source": [
    "encoder.get_feature_names(catg_col)"
   ]
  },
  {
   "cell_type": "code",
   "execution_count": 236,
   "metadata": {},
   "outputs": [
    {
     "data": {
      "text/html": [
       "<div>\n",
       "<style scoped>\n",
       "    .dataframe tbody tr th:only-of-type {\n",
       "        vertical-align: middle;\n",
       "    }\n",
       "\n",
       "    .dataframe tbody tr th {\n",
       "        vertical-align: top;\n",
       "    }\n",
       "\n",
       "    .dataframe thead th {\n",
       "        text-align: right;\n",
       "    }\n",
       "</style>\n",
       "<table border=\"1\" class=\"dataframe\">\n",
       "  <thead>\n",
       "    <tr style=\"text-align: right;\">\n",
       "      <th></th>\n",
       "      <th>area_area1</th>\n",
       "      <th>area_area2</th>\n",
       "      <th>area_area3</th>\n",
       "      <th>area_area4</th>\n",
       "      <th>area_area5</th>\n",
       "      <th>area_area6</th>\n",
       "      <th>area_area7</th>\n",
       "      <th>area_area8</th>\n",
       "      <th>speciality_cd</th>\n",
       "      <th>speciality_chest</th>\n",
       "      <th>...</th>\n",
       "      <th>dr_class_a</th>\n",
       "      <th>dr_class_b</th>\n",
       "      <th>clinic_hos_clinic</th>\n",
       "      <th>clinic_hos_hospital</th>\n",
       "      <th>medicine_type1</th>\n",
       "      <th>medicine_type2</th>\n",
       "      <th>medicine_type3</th>\n",
       "      <th>medicine_type4</th>\n",
       "      <th>medicine_type5</th>\n",
       "      <th>medicine_type6</th>\n",
       "    </tr>\n",
       "  </thead>\n",
       "  <tbody>\n",
       "    <tr>\n",
       "      <th>0</th>\n",
       "      <td>1.0</td>\n",
       "      <td>0.0</td>\n",
       "      <td>0.0</td>\n",
       "      <td>0.0</td>\n",
       "      <td>0.0</td>\n",
       "      <td>0.0</td>\n",
       "      <td>0.0</td>\n",
       "      <td>0.0</td>\n",
       "      <td>0.0</td>\n",
       "      <td>1.0</td>\n",
       "      <td>...</td>\n",
       "      <td>1.0</td>\n",
       "      <td>0.0</td>\n",
       "      <td>1.0</td>\n",
       "      <td>0.0</td>\n",
       "      <td>1.0</td>\n",
       "      <td>0.0</td>\n",
       "      <td>0.0</td>\n",
       "      <td>0.0</td>\n",
       "      <td>0.0</td>\n",
       "      <td>0.0</td>\n",
       "    </tr>\n",
       "    <tr>\n",
       "      <th>1</th>\n",
       "      <td>0.0</td>\n",
       "      <td>1.0</td>\n",
       "      <td>0.0</td>\n",
       "      <td>0.0</td>\n",
       "      <td>0.0</td>\n",
       "      <td>0.0</td>\n",
       "      <td>0.0</td>\n",
       "      <td>0.0</td>\n",
       "      <td>0.0</td>\n",
       "      <td>0.0</td>\n",
       "      <td>...</td>\n",
       "      <td>0.0</td>\n",
       "      <td>1.0</td>\n",
       "      <td>1.0</td>\n",
       "      <td>0.0</td>\n",
       "      <td>0.0</td>\n",
       "      <td>0.0</td>\n",
       "      <td>0.0</td>\n",
       "      <td>1.0</td>\n",
       "      <td>0.0</td>\n",
       "      <td>0.0</td>\n",
       "    </tr>\n",
       "    <tr>\n",
       "      <th>2</th>\n",
       "      <td>0.0</td>\n",
       "      <td>0.0</td>\n",
       "      <td>0.0</td>\n",
       "      <td>0.0</td>\n",
       "      <td>0.0</td>\n",
       "      <td>0.0</td>\n",
       "      <td>0.0</td>\n",
       "      <td>1.0</td>\n",
       "      <td>0.0</td>\n",
       "      <td>1.0</td>\n",
       "      <td>...</td>\n",
       "      <td>1.0</td>\n",
       "      <td>0.0</td>\n",
       "      <td>0.0</td>\n",
       "      <td>1.0</td>\n",
       "      <td>1.0</td>\n",
       "      <td>0.0</td>\n",
       "      <td>0.0</td>\n",
       "      <td>0.0</td>\n",
       "      <td>0.0</td>\n",
       "      <td>0.0</td>\n",
       "    </tr>\n",
       "    <tr>\n",
       "      <th>3</th>\n",
       "      <td>0.0</td>\n",
       "      <td>0.0</td>\n",
       "      <td>0.0</td>\n",
       "      <td>0.0</td>\n",
       "      <td>1.0</td>\n",
       "      <td>0.0</td>\n",
       "      <td>0.0</td>\n",
       "      <td>0.0</td>\n",
       "      <td>0.0</td>\n",
       "      <td>1.0</td>\n",
       "      <td>...</td>\n",
       "      <td>1.0</td>\n",
       "      <td>0.0</td>\n",
       "      <td>0.0</td>\n",
       "      <td>1.0</td>\n",
       "      <td>1.0</td>\n",
       "      <td>0.0</td>\n",
       "      <td>0.0</td>\n",
       "      <td>0.0</td>\n",
       "      <td>0.0</td>\n",
       "      <td>0.0</td>\n",
       "    </tr>\n",
       "    <tr>\n",
       "      <th>4</th>\n",
       "      <td>0.0</td>\n",
       "      <td>0.0</td>\n",
       "      <td>0.0</td>\n",
       "      <td>0.0</td>\n",
       "      <td>0.0</td>\n",
       "      <td>1.0</td>\n",
       "      <td>0.0</td>\n",
       "      <td>0.0</td>\n",
       "      <td>0.0</td>\n",
       "      <td>0.0</td>\n",
       "      <td>...</td>\n",
       "      <td>1.0</td>\n",
       "      <td>0.0</td>\n",
       "      <td>1.0</td>\n",
       "      <td>0.0</td>\n",
       "      <td>0.0</td>\n",
       "      <td>0.0</td>\n",
       "      <td>0.0</td>\n",
       "      <td>0.0</td>\n",
       "      <td>1.0</td>\n",
       "      <td>0.0</td>\n",
       "    </tr>\n",
       "  </tbody>\n",
       "</table>\n",
       "<p>5 rows × 29 columns</p>\n",
       "</div>"
      ],
      "text/plain": [
       "   area_area1  area_area2  area_area3  area_area4  area_area5  area_area6  \\\n",
       "0         1.0         0.0         0.0         0.0         0.0         0.0   \n",
       "1         0.0         1.0         0.0         0.0         0.0         0.0   \n",
       "2         0.0         0.0         0.0         0.0         0.0         0.0   \n",
       "3         0.0         0.0         0.0         0.0         1.0         0.0   \n",
       "4         0.0         0.0         0.0         0.0         0.0         1.0   \n",
       "\n",
       "   area_area7  area_area8  speciality_cd  speciality_chest       ...        \\\n",
       "0         0.0         0.0            0.0               1.0       ...         \n",
       "1         0.0         0.0            0.0               0.0       ...         \n",
       "2         0.0         1.0            0.0               1.0       ...         \n",
       "3         0.0         0.0            0.0               1.0       ...         \n",
       "4         0.0         0.0            0.0               0.0       ...         \n",
       "\n",
       "   dr_class_a  dr_class_b  clinic_hos_clinic  clinic_hos_hospital  \\\n",
       "0         1.0         0.0                1.0                  0.0   \n",
       "1         0.0         1.0                1.0                  0.0   \n",
       "2         1.0         0.0                0.0                  1.0   \n",
       "3         1.0         0.0                0.0                  1.0   \n",
       "4         1.0         0.0                1.0                  0.0   \n",
       "\n",
       "   medicine_type1  medicine_type2  medicine_type3  medicine_type4  \\\n",
       "0             1.0             0.0             0.0             0.0   \n",
       "1             0.0             0.0             0.0             1.0   \n",
       "2             1.0             0.0             0.0             0.0   \n",
       "3             1.0             0.0             0.0             0.0   \n",
       "4             0.0             0.0             0.0             0.0   \n",
       "\n",
       "   medicine_type5  medicine_type6  \n",
       "0             0.0             0.0  \n",
       "1             0.0             0.0  \n",
       "2             0.0             0.0  \n",
       "3             0.0             0.0  \n",
       "4             1.0             0.0  \n",
       "\n",
       "[5 rows x 29 columns]"
      ]
     },
     "execution_count": 236,
     "metadata": {},
     "output_type": "execute_result"
    }
   ],
   "source": [
    "encoded_features_df = pd.DataFrame(features_cat, columns=encoder.get_feature_names(catg_col), index=data_normalized.index)\n",
    "encoded_features_df.head()"
   ]
  },
  {
   "cell_type": "code",
   "execution_count": 237,
   "metadata": {},
   "outputs": [
    {
     "data": {
      "text/html": [
       "<div>\n",
       "<style scoped>\n",
       "    .dataframe tbody tr th:only-of-type {\n",
       "        vertical-align: middle;\n",
       "    }\n",
       "\n",
       "    .dataframe tbody tr th {\n",
       "        vertical-align: top;\n",
       "    }\n",
       "\n",
       "    .dataframe thead th {\n",
       "        text-align: right;\n",
       "    }\n",
       "</style>\n",
       "<table border=\"1\" class=\"dataframe\">\n",
       "  <thead>\n",
       "    <tr style=\"text-align: right;\">\n",
       "      <th></th>\n",
       "      <th>exam_price</th>\n",
       "      <th>price</th>\n",
       "      <th>write</th>\n",
       "    </tr>\n",
       "  </thead>\n",
       "  <tbody>\n",
       "    <tr>\n",
       "      <th>0</th>\n",
       "      <td>0.531250</td>\n",
       "      <td>1.00</td>\n",
       "      <td>1.0</td>\n",
       "    </tr>\n",
       "    <tr>\n",
       "      <th>1</th>\n",
       "      <td>0.218750</td>\n",
       "      <td>0.64</td>\n",
       "      <td>1.0</td>\n",
       "    </tr>\n",
       "    <tr>\n",
       "      <th>2</th>\n",
       "      <td>0.140625</td>\n",
       "      <td>1.00</td>\n",
       "      <td>1.0</td>\n",
       "    </tr>\n",
       "    <tr>\n",
       "      <th>3</th>\n",
       "      <td>0.000000</td>\n",
       "      <td>1.00</td>\n",
       "      <td>1.0</td>\n",
       "    </tr>\n",
       "    <tr>\n",
       "      <th>4</th>\n",
       "      <td>0.593750</td>\n",
       "      <td>0.36</td>\n",
       "      <td>0.0</td>\n",
       "    </tr>\n",
       "  </tbody>\n",
       "</table>\n",
       "</div>"
      ],
      "text/plain": [
       "   exam_price  price  write\n",
       "0    0.531250   1.00    1.0\n",
       "1    0.218750   0.64    1.0\n",
       "2    0.140625   1.00    1.0\n",
       "3    0.000000   1.00    1.0\n",
       "4    0.593750   0.36    0.0"
      ]
     },
     "execution_count": 237,
     "metadata": {},
     "output_type": "execute_result"
    }
   ],
   "source": [
    "data_normalized[data_numerical.columns].head()"
   ]
  },
  {
   "cell_type": "code",
   "execution_count": 238,
   "metadata": {},
   "outputs": [
    {
     "data": {
      "text/html": [
       "<div>\n",
       "<style scoped>\n",
       "    .dataframe tbody tr th:only-of-type {\n",
       "        vertical-align: middle;\n",
       "    }\n",
       "\n",
       "    .dataframe tbody tr th {\n",
       "        vertical-align: top;\n",
       "    }\n",
       "\n",
       "    .dataframe thead th {\n",
       "        text-align: right;\n",
       "    }\n",
       "</style>\n",
       "<table border=\"1\" class=\"dataframe\">\n",
       "  <thead>\n",
       "    <tr style=\"text-align: right;\">\n",
       "      <th></th>\n",
       "      <th>exam_price</th>\n",
       "      <th>price</th>\n",
       "      <th>write</th>\n",
       "      <th>area_area1</th>\n",
       "      <th>area_area2</th>\n",
       "      <th>area_area3</th>\n",
       "      <th>area_area4</th>\n",
       "      <th>area_area5</th>\n",
       "      <th>area_area6</th>\n",
       "      <th>area_area7</th>\n",
       "      <th>...</th>\n",
       "      <th>dr_class_a</th>\n",
       "      <th>dr_class_b</th>\n",
       "      <th>clinic_hos_clinic</th>\n",
       "      <th>clinic_hos_hospital</th>\n",
       "      <th>medicine_type1</th>\n",
       "      <th>medicine_type2</th>\n",
       "      <th>medicine_type3</th>\n",
       "      <th>medicine_type4</th>\n",
       "      <th>medicine_type5</th>\n",
       "      <th>medicine_type6</th>\n",
       "    </tr>\n",
       "  </thead>\n",
       "  <tbody>\n",
       "    <tr>\n",
       "      <th>0</th>\n",
       "      <td>0.531250</td>\n",
       "      <td>1.00</td>\n",
       "      <td>1.0</td>\n",
       "      <td>1.0</td>\n",
       "      <td>0.0</td>\n",
       "      <td>0.0</td>\n",
       "      <td>0.0</td>\n",
       "      <td>0.0</td>\n",
       "      <td>0.0</td>\n",
       "      <td>0.0</td>\n",
       "      <td>...</td>\n",
       "      <td>1.0</td>\n",
       "      <td>0.0</td>\n",
       "      <td>1.0</td>\n",
       "      <td>0.0</td>\n",
       "      <td>1.0</td>\n",
       "      <td>0.0</td>\n",
       "      <td>0.0</td>\n",
       "      <td>0.0</td>\n",
       "      <td>0.0</td>\n",
       "      <td>0.0</td>\n",
       "    </tr>\n",
       "    <tr>\n",
       "      <th>1</th>\n",
       "      <td>0.218750</td>\n",
       "      <td>0.64</td>\n",
       "      <td>1.0</td>\n",
       "      <td>0.0</td>\n",
       "      <td>1.0</td>\n",
       "      <td>0.0</td>\n",
       "      <td>0.0</td>\n",
       "      <td>0.0</td>\n",
       "      <td>0.0</td>\n",
       "      <td>0.0</td>\n",
       "      <td>...</td>\n",
       "      <td>0.0</td>\n",
       "      <td>1.0</td>\n",
       "      <td>1.0</td>\n",
       "      <td>0.0</td>\n",
       "      <td>0.0</td>\n",
       "      <td>0.0</td>\n",
       "      <td>0.0</td>\n",
       "      <td>1.0</td>\n",
       "      <td>0.0</td>\n",
       "      <td>0.0</td>\n",
       "    </tr>\n",
       "    <tr>\n",
       "      <th>2</th>\n",
       "      <td>0.140625</td>\n",
       "      <td>1.00</td>\n",
       "      <td>1.0</td>\n",
       "      <td>0.0</td>\n",
       "      <td>0.0</td>\n",
       "      <td>0.0</td>\n",
       "      <td>0.0</td>\n",
       "      <td>0.0</td>\n",
       "      <td>0.0</td>\n",
       "      <td>0.0</td>\n",
       "      <td>...</td>\n",
       "      <td>1.0</td>\n",
       "      <td>0.0</td>\n",
       "      <td>0.0</td>\n",
       "      <td>1.0</td>\n",
       "      <td>1.0</td>\n",
       "      <td>0.0</td>\n",
       "      <td>0.0</td>\n",
       "      <td>0.0</td>\n",
       "      <td>0.0</td>\n",
       "      <td>0.0</td>\n",
       "    </tr>\n",
       "    <tr>\n",
       "      <th>3</th>\n",
       "      <td>0.000000</td>\n",
       "      <td>1.00</td>\n",
       "      <td>1.0</td>\n",
       "      <td>0.0</td>\n",
       "      <td>0.0</td>\n",
       "      <td>0.0</td>\n",
       "      <td>0.0</td>\n",
       "      <td>1.0</td>\n",
       "      <td>0.0</td>\n",
       "      <td>0.0</td>\n",
       "      <td>...</td>\n",
       "      <td>1.0</td>\n",
       "      <td>0.0</td>\n",
       "      <td>0.0</td>\n",
       "      <td>1.0</td>\n",
       "      <td>1.0</td>\n",
       "      <td>0.0</td>\n",
       "      <td>0.0</td>\n",
       "      <td>0.0</td>\n",
       "      <td>0.0</td>\n",
       "      <td>0.0</td>\n",
       "    </tr>\n",
       "    <tr>\n",
       "      <th>4</th>\n",
       "      <td>0.593750</td>\n",
       "      <td>0.36</td>\n",
       "      <td>0.0</td>\n",
       "      <td>0.0</td>\n",
       "      <td>0.0</td>\n",
       "      <td>0.0</td>\n",
       "      <td>0.0</td>\n",
       "      <td>0.0</td>\n",
       "      <td>1.0</td>\n",
       "      <td>0.0</td>\n",
       "      <td>...</td>\n",
       "      <td>1.0</td>\n",
       "      <td>0.0</td>\n",
       "      <td>1.0</td>\n",
       "      <td>0.0</td>\n",
       "      <td>0.0</td>\n",
       "      <td>0.0</td>\n",
       "      <td>0.0</td>\n",
       "      <td>0.0</td>\n",
       "      <td>1.0</td>\n",
       "      <td>0.0</td>\n",
       "    </tr>\n",
       "  </tbody>\n",
       "</table>\n",
       "<p>5 rows × 32 columns</p>\n",
       "</div>"
      ],
      "text/plain": [
       "   exam_price  price  write  area_area1  area_area2  area_area3  area_area4  \\\n",
       "0    0.531250   1.00    1.0         1.0         0.0         0.0         0.0   \n",
       "1    0.218750   0.64    1.0         0.0         1.0         0.0         0.0   \n",
       "2    0.140625   1.00    1.0         0.0         0.0         0.0         0.0   \n",
       "3    0.000000   1.00    1.0         0.0         0.0         0.0         0.0   \n",
       "4    0.593750   0.36    0.0         0.0         0.0         0.0         0.0   \n",
       "\n",
       "   area_area5  area_area6  area_area7       ...        dr_class_a  dr_class_b  \\\n",
       "0         0.0         0.0         0.0       ...               1.0         0.0   \n",
       "1         0.0         0.0         0.0       ...               0.0         1.0   \n",
       "2         0.0         0.0         0.0       ...               1.0         0.0   \n",
       "3         1.0         0.0         0.0       ...               1.0         0.0   \n",
       "4         0.0         1.0         0.0       ...               1.0         0.0   \n",
       "\n",
       "   clinic_hos_clinic  clinic_hos_hospital  medicine_type1  medicine_type2  \\\n",
       "0                1.0                  0.0             1.0             0.0   \n",
       "1                1.0                  0.0             0.0             0.0   \n",
       "2                0.0                  1.0             1.0             0.0   \n",
       "3                0.0                  1.0             1.0             0.0   \n",
       "4                1.0                  0.0             0.0             0.0   \n",
       "\n",
       "   medicine_type3  medicine_type4  medicine_type5  medicine_type6  \n",
       "0             0.0             0.0             0.0             0.0  \n",
       "1             0.0             1.0             0.0             0.0  \n",
       "2             0.0             0.0             0.0             0.0  \n",
       "3             0.0             0.0             0.0             0.0  \n",
       "4             0.0             0.0             1.0             0.0  \n",
       "\n",
       "[5 rows x 32 columns]"
      ]
     },
     "execution_count": 238,
     "metadata": {},
     "output_type": "execute_result"
    }
   ],
   "source": [
    "data_processed = pd.concat([data_normalized[data_numerical.columns], encoded_features_df], axis=1)\n",
    "data_processed.head()"
   ]
  },
  {
   "cell_type": "markdown",
   "metadata": {},
   "source": [
    "# Step 5: Data Clustering\n",
    "#### Split feature and target data"
   ]
  },
  {
   "cell_type": "code",
   "execution_count": 239,
   "metadata": {},
   "outputs": [
    {
     "data": {
      "text/html": [
       "<div>\n",
       "<style scoped>\n",
       "    .dataframe tbody tr th:only-of-type {\n",
       "        vertical-align: middle;\n",
       "    }\n",
       "\n",
       "    .dataframe tbody tr th {\n",
       "        vertical-align: top;\n",
       "    }\n",
       "\n",
       "    .dataframe thead th {\n",
       "        text-align: right;\n",
       "    }\n",
       "</style>\n",
       "<table border=\"1\" class=\"dataframe\">\n",
       "  <thead>\n",
       "    <tr style=\"text-align: right;\">\n",
       "      <th></th>\n",
       "      <th>exam_price</th>\n",
       "      <th>price</th>\n",
       "      <th>area_area1</th>\n",
       "      <th>area_area2</th>\n",
       "      <th>area_area3</th>\n",
       "      <th>area_area4</th>\n",
       "      <th>area_area5</th>\n",
       "      <th>area_area6</th>\n",
       "      <th>area_area7</th>\n",
       "      <th>area_area8</th>\n",
       "      <th>...</th>\n",
       "      <th>dr_class_a</th>\n",
       "      <th>dr_class_b</th>\n",
       "      <th>clinic_hos_clinic</th>\n",
       "      <th>clinic_hos_hospital</th>\n",
       "      <th>medicine_type1</th>\n",
       "      <th>medicine_type2</th>\n",
       "      <th>medicine_type3</th>\n",
       "      <th>medicine_type4</th>\n",
       "      <th>medicine_type5</th>\n",
       "      <th>medicine_type6</th>\n",
       "    </tr>\n",
       "  </thead>\n",
       "  <tbody>\n",
       "    <tr>\n",
       "      <th>0</th>\n",
       "      <td>0.531250</td>\n",
       "      <td>1.00</td>\n",
       "      <td>1.0</td>\n",
       "      <td>0.0</td>\n",
       "      <td>0.0</td>\n",
       "      <td>0.0</td>\n",
       "      <td>0.0</td>\n",
       "      <td>0.0</td>\n",
       "      <td>0.0</td>\n",
       "      <td>0.0</td>\n",
       "      <td>...</td>\n",
       "      <td>1.0</td>\n",
       "      <td>0.0</td>\n",
       "      <td>1.0</td>\n",
       "      <td>0.0</td>\n",
       "      <td>1.0</td>\n",
       "      <td>0.0</td>\n",
       "      <td>0.0</td>\n",
       "      <td>0.0</td>\n",
       "      <td>0.0</td>\n",
       "      <td>0.0</td>\n",
       "    </tr>\n",
       "    <tr>\n",
       "      <th>1</th>\n",
       "      <td>0.218750</td>\n",
       "      <td>0.64</td>\n",
       "      <td>0.0</td>\n",
       "      <td>1.0</td>\n",
       "      <td>0.0</td>\n",
       "      <td>0.0</td>\n",
       "      <td>0.0</td>\n",
       "      <td>0.0</td>\n",
       "      <td>0.0</td>\n",
       "      <td>0.0</td>\n",
       "      <td>...</td>\n",
       "      <td>0.0</td>\n",
       "      <td>1.0</td>\n",
       "      <td>1.0</td>\n",
       "      <td>0.0</td>\n",
       "      <td>0.0</td>\n",
       "      <td>0.0</td>\n",
       "      <td>0.0</td>\n",
       "      <td>1.0</td>\n",
       "      <td>0.0</td>\n",
       "      <td>0.0</td>\n",
       "    </tr>\n",
       "    <tr>\n",
       "      <th>2</th>\n",
       "      <td>0.140625</td>\n",
       "      <td>1.00</td>\n",
       "      <td>0.0</td>\n",
       "      <td>0.0</td>\n",
       "      <td>0.0</td>\n",
       "      <td>0.0</td>\n",
       "      <td>0.0</td>\n",
       "      <td>0.0</td>\n",
       "      <td>0.0</td>\n",
       "      <td>1.0</td>\n",
       "      <td>...</td>\n",
       "      <td>1.0</td>\n",
       "      <td>0.0</td>\n",
       "      <td>0.0</td>\n",
       "      <td>1.0</td>\n",
       "      <td>1.0</td>\n",
       "      <td>0.0</td>\n",
       "      <td>0.0</td>\n",
       "      <td>0.0</td>\n",
       "      <td>0.0</td>\n",
       "      <td>0.0</td>\n",
       "    </tr>\n",
       "    <tr>\n",
       "      <th>3</th>\n",
       "      <td>0.000000</td>\n",
       "      <td>1.00</td>\n",
       "      <td>0.0</td>\n",
       "      <td>0.0</td>\n",
       "      <td>0.0</td>\n",
       "      <td>0.0</td>\n",
       "      <td>1.0</td>\n",
       "      <td>0.0</td>\n",
       "      <td>0.0</td>\n",
       "      <td>0.0</td>\n",
       "      <td>...</td>\n",
       "      <td>1.0</td>\n",
       "      <td>0.0</td>\n",
       "      <td>0.0</td>\n",
       "      <td>1.0</td>\n",
       "      <td>1.0</td>\n",
       "      <td>0.0</td>\n",
       "      <td>0.0</td>\n",
       "      <td>0.0</td>\n",
       "      <td>0.0</td>\n",
       "      <td>0.0</td>\n",
       "    </tr>\n",
       "    <tr>\n",
       "      <th>4</th>\n",
       "      <td>0.593750</td>\n",
       "      <td>0.36</td>\n",
       "      <td>0.0</td>\n",
       "      <td>0.0</td>\n",
       "      <td>0.0</td>\n",
       "      <td>0.0</td>\n",
       "      <td>0.0</td>\n",
       "      <td>1.0</td>\n",
       "      <td>0.0</td>\n",
       "      <td>0.0</td>\n",
       "      <td>...</td>\n",
       "      <td>1.0</td>\n",
       "      <td>0.0</td>\n",
       "      <td>1.0</td>\n",
       "      <td>0.0</td>\n",
       "      <td>0.0</td>\n",
       "      <td>0.0</td>\n",
       "      <td>0.0</td>\n",
       "      <td>0.0</td>\n",
       "      <td>1.0</td>\n",
       "      <td>0.0</td>\n",
       "    </tr>\n",
       "  </tbody>\n",
       "</table>\n",
       "<p>5 rows × 31 columns</p>\n",
       "</div>"
      ],
      "text/plain": [
       "   exam_price  price  area_area1  area_area2  area_area3  area_area4  \\\n",
       "0    0.531250   1.00         1.0         0.0         0.0         0.0   \n",
       "1    0.218750   0.64         0.0         1.0         0.0         0.0   \n",
       "2    0.140625   1.00         0.0         0.0         0.0         0.0   \n",
       "3    0.000000   1.00         0.0         0.0         0.0         0.0   \n",
       "4    0.593750   0.36         0.0         0.0         0.0         0.0   \n",
       "\n",
       "   area_area5  area_area6  area_area7  area_area8       ...        dr_class_a  \\\n",
       "0         0.0         0.0         0.0         0.0       ...               1.0   \n",
       "1         0.0         0.0         0.0         0.0       ...               0.0   \n",
       "2         0.0         0.0         0.0         1.0       ...               1.0   \n",
       "3         1.0         0.0         0.0         0.0       ...               1.0   \n",
       "4         0.0         1.0         0.0         0.0       ...               1.0   \n",
       "\n",
       "   dr_class_b  clinic_hos_clinic  clinic_hos_hospital  medicine_type1  \\\n",
       "0         0.0                1.0                  0.0             1.0   \n",
       "1         1.0                1.0                  0.0             0.0   \n",
       "2         0.0                0.0                  1.0             1.0   \n",
       "3         0.0                0.0                  1.0             1.0   \n",
       "4         0.0                1.0                  0.0             0.0   \n",
       "\n",
       "   medicine_type2  medicine_type3  medicine_type4  medicine_type5  \\\n",
       "0             0.0             0.0             0.0             0.0   \n",
       "1             0.0             0.0             1.0             0.0   \n",
       "2             0.0             0.0             0.0             0.0   \n",
       "3             0.0             0.0             0.0             0.0   \n",
       "4             0.0             0.0             0.0             1.0   \n",
       "\n",
       "   medicine_type6  \n",
       "0             0.0  \n",
       "1             0.0  \n",
       "2             0.0  \n",
       "3             0.0  \n",
       "4             0.0  \n",
       "\n",
       "[5 rows x 31 columns]"
      ]
     },
     "execution_count": 239,
     "metadata": {},
     "output_type": "execute_result"
    }
   ],
   "source": [
    "write = data_processed[\"write\"].copy()\n",
    "features = data_processed.drop('write', axis=1)\n",
    "features.head()"
   ]
  },
  {
   "cell_type": "code",
   "execution_count": 240,
   "metadata": {},
   "outputs": [
    {
     "name": "stderr",
     "output_type": "stream",
     "text": [
      "C:\\Users\\Abdo Halem\\AppData\\Roaming\\Python\\Python36\\site-packages\\sklearn\\cluster\\_kmeans.py:882: UserWarning: KMeans is known to have a memory leak on Windows with MKL, when there are less chunks than available threads. You can avoid it by setting the environment variable OMP_NUM_THREADS=2.\n",
      "  f\"KMeans is known to have a memory leak on Windows \"\n"
     ]
    },
    {
     "data": {
      "image/png": "[encoded data removed]",
      "text/plain": [
       "<matplotlib.figure.Figure at 0x19fadcb09e8>"
      ]
     },
     "metadata": {
      "needs_background": "light"
     },
     "output_type": "display_data"
    }
   ],
   "source": [
    "from sklearn.cluster import KMeans\n",
    "wcss = []\n",
    "for i in range(1, 11):                  # try to test k=1 to 10\n",
    "    kmeans = KMeans(n_clusters = i, init = 'k-means++', random_state = 42)\n",
    "    kmeans.fit(data_processed)\n",
    "    # kmeans.fit(features)\n",
    "    wcss.append(kmeans.inertia_)        # kmeans.inertia_   get the wcss\n",
    "plt.figure(figsize=[15, 10])\n",
    "plt.plot(range(1, 11), wcss)\n",
    "plt.title('The Elbow Method')\n",
    "plt.xlabel('Number of clusters')\n",
    "plt.ylabel('WCSS')\n",
    "plt.show()"
   ]
  },
  {
   "cell_type": "markdown",
   "metadata": {},
   "source": [
    "### So, the best number of clusters is 7"
   ]
  },
  {
   "cell_type": "code",
   "execution_count": 241,
   "metadata": {},
   "outputs": [
    {
     "name": "stdout",
     "output_type": "stream",
     "text": [
      "390\n",
      "[1 4 3 3 6 4 2 3 0 0 4 3 6 5 0 4 3 7 0 6 7 0 5 0 1 2 3 1 6 7 6 7 5 6 6 2 1\n",
      " 0 0 7 3 6 6 3 1 0 4 7 5 0 6 3 6 3 4 7 3 0 1 2 1 2 4 3 3 0 4 3 0 3 6 7 5 0\n",
      " 0 3 0 2 0 7 5 6 6 2 0 3 6 7 3 0 6 2 1 2 0 7 3 4 0 3 0 3 4 7 3 0 0 2 1 3 2\n",
      " 7 3 1 6 2 6 3 4 3 6 6 2 0 3 0 5 0 1 2 6 3 1 3 0 6 3 6 3 3 5 0 1 3 6 2 2 3\n",
      " 4 6 2 0 3 6 5 1 4 3 0 2 3 5 1 4 3 1 2 3 5 6 4 2 0 4 7 5 1 4 6 3 0 5 6 0 1\n",
      " 2 0 3 0 0 1 3 6 3 0 1 1 3 1 5 0 6 1 3 0 5 0 1 6 2 5 1 6 1 2 6 5 6 6 6 2 5\n",
      " 6 1 5 1 3 5 5 0 6 6 3 3 5 0 7 4 2 4 5 0 6 2 3 5 0 7 0 2 5 5 6 3 6 2 3 5 6\n",
      " 3 0 6 5 3 0 7 6 2 5 5 0 7 6 2 3 4 7 6 3 4 7 3 3 4 7 0 2 6 5 0 0 7 2 4 5 4\n",
      " 0 7 2 4 3 0 1 7 3 5 1 0 3 4 2 5 0 4 7 4 2 5 0 4 7 0 3 3 6 4 3 6 2 3 0 4 7\n",
      " 2 3 5 4 0 7 5 4 1 3 5 6 6 7 5 6 0 3 3 1 0 7 3 6 4 3 5 1 0 3 3 2 5 0 7 2 0\n",
      " 5 0 7 3 3 0 7 2 2 5 1 7 2 5 6 7 2 1 7 1]\n"
     ]
    },
    {
     "data": {
      "text/plain": [
       "array([[ 3.22294776e-01,  6.42985075e-01,  8.65671642e-01,\n",
       "         2.08955224e-01,  2.98507463e-02,  1.04477612e-01,\n",
       "         4.47761194e-02, -5.55111512e-17,  3.88059701e-01,\n",
       "         1.49253731e-01,  7.46268657e-02,  1.49253731e-01,\n",
       "         2.23880597e-01,  1.19402985e-01, -2.77555756e-17,\n",
       "         2.08955224e-01,  7.46268657e-02,  2.98507463e-02,\n",
       "         7.46268657e-02,  5.97014925e-02,  1.49253731e-02,\n",
       "         4.47761194e-02,  5.55111512e-17,  1.00000000e+00,\n",
       "         1.00000000e+00,  0.00000000e+00,  4.17910448e-01,\n",
       "         1.64179104e-01,  7.46268657e-02,  1.04477612e-01,\n",
       "         2.08955224e-01,  2.98507463e-02],\n",
       "       [ 6.57118056e-01,  1.00000000e+00,  3.61111111e-01,\n",
       "         4.16666667e-01, -5.55111512e-17,  2.77777778e-02,\n",
       "         2.77777778e-02,  5.55111512e-17,  2.22222222e-01,\n",
       "         1.11111111e-01,  1.94444444e-01,  0.00000000e+00,\n",
       "         1.38888889e-01,  5.55555556e-02,  2.77777778e-02,\n",
       "         2.77555756e-17,  6.38888889e-01,  3.46944695e-18,\n",
       "         1.11111111e-01,  2.77777778e-02, -6.93889390e-18,\n",
       "         3.46944695e-18,  1.00000000e+00,  1.11022302e-16,\n",
       "         1.00000000e+00,  0.00000000e+00,  1.00000000e+00,\n",
       "         0.00000000e+00,  2.77555756e-17, -8.32667268e-17,\n",
       "         0.00000000e+00,  0.00000000e+00],\n",
       "       [ 9.22965116e-02,  4.77209302e-01,  7.44186047e-01,\n",
       "         0.00000000e+00,  9.53488372e-01,  4.65116279e-02,\n",
       "        -2.77555756e-17,  5.55111512e-17,  2.77555756e-17,\n",
       "        -2.08166817e-17, -1.11022302e-16,  1.39534884e-01,\n",
       "         2.32558140e-02, -2.08166817e-17,  1.38777878e-17,\n",
       "         2.79069767e-01,  3.02325581e-01,  2.32558140e-02,\n",
       "        -2.08166817e-17,  2.32558140e-01, -1.38777878e-17,\n",
       "         0.00000000e+00, -5.55111512e-17,  1.00000000e+00,\n",
       "         0.00000000e+00,  1.00000000e+00,  3.02325581e-01,\n",
       "         9.30232558e-02,  9.30232558e-02,  1.39534884e-01,\n",
       "         9.30232558e-02,  2.79069767e-01],\n",
       "       [ 6.94679054e-02,  7.02702703e-01,  4.59459459e-01,\n",
       "         1.11022302e-16,  4.18918919e-01,  1.35135135e-02,\n",
       "         8.10810811e-02,  3.10810811e-01, -8.32667268e-17,\n",
       "         1.38777878e-17,  1.75675676e-01,  1.35135135e-01,\n",
       "         6.75675676e-02,  6.75675676e-02,  1.89189189e-01,\n",
       "        -4.16333634e-17,  1.75675676e-01,  4.05405405e-02,\n",
       "         6.75675676e-02,  2.16216216e-01,  2.70270270e-02,\n",
       "         1.35135135e-02,  1.00000000e+00, -4.44089210e-16,\n",
       "         0.00000000e+00,  1.00000000e+00,  5.00000000e-01,\n",
       "         1.48648649e-01,  8.10810811e-02,  1.35135135e-01,\n",
       "         1.21621622e-01,  1.35135135e-02],\n",
       "       [ 3.42830882e-01,  4.20000000e-01,  7.05882353e-01,\n",
       "         1.47058824e-01,  8.82352941e-02,  1.47058824e-01,\n",
       "         2.94117647e-02,  5.55111512e-17,  2.35294118e-01,\n",
       "         1.47058824e-01,  2.05882353e-01,  0.00000000e+00,\n",
       "         1.38777878e-17, -1.38777878e-17,  1.38777878e-17,\n",
       "         2.77555756e-17,  1.00000000e+00,  3.46944695e-18,\n",
       "        -1.38777878e-17, -2.77555756e-17, -6.93889390e-18,\n",
       "         0.00000000e+00, -5.55111512e-17,  1.00000000e+00,\n",
       "         1.00000000e+00,  0.00000000e+00,  1.17647059e-01,\n",
       "         1.47058824e-01,  1.47058824e-01,  2.94117647e-01,\n",
       "         8.82352941e-02,  2.05882353e-01],\n",
       "       [ 1.13636364e-02,  7.20909091e-01,  7.95454545e-01,\n",
       "         0.00000000e+00, -8.32667268e-17, -2.08166817e-17,\n",
       "         1.13636364e-01,  8.86363636e-01,  2.77555756e-17,\n",
       "        -2.08166817e-17, -8.32667268e-17,  1.13636364e-01,\n",
       "         2.27272727e-02,  2.27272727e-02,  3.18181818e-01,\n",
       "         2.77555756e-17,  4.54545455e-01,  3.46944695e-18,\n",
       "         2.27272727e-02,  4.54545455e-02, -1.04083409e-17,\n",
       "         0.00000000e+00, -1.11022302e-16,  1.00000000e+00,\n",
       "         0.00000000e+00,  1.00000000e+00,  5.22727273e-01,\n",
       "         1.13636364e-01,  4.54545455e-02,  2.27272727e-01,\n",
       "        -1.38777878e-17,  9.09090909e-02],\n",
       "       [ 7.07589286e-01,  4.25714286e-01,  1.96428571e-01,\n",
       "         2.85714286e-01,  5.35714286e-02,  7.14285714e-02,\n",
       "         5.35714286e-02, -2.77555756e-17,  2.67857143e-01,\n",
       "         3.57142857e-02,  2.32142857e-01,  2.85714286e-01,\n",
       "        -2.77555756e-17,  6.93889390e-18,  7.14285714e-02,\n",
       "        -1.38777878e-17,  5.17857143e-01, -6.93889390e-18,\n",
       "        -1.38777878e-17, -1.38777878e-17,  7.14285714e-02,\n",
       "         5.35714286e-02,  1.00000000e+00, -2.22044605e-16,\n",
       "         1.00000000e+00,  0.00000000e+00, -1.66533454e-16,\n",
       "         2.32142857e-01,  1.60714286e-01,  4.46428571e-01,\n",
       "         7.14285714e-02,  8.92857143e-02],\n",
       "       [ 1.39322917e-01,  6.58888889e-01,  6.11111111e-01,\n",
       "         0.00000000e+00, -5.55111512e-17, -1.38777878e-17,\n",
       "         2.77777778e-02,  8.32667268e-17,  5.55111512e-17,\n",
       "        -1.38777878e-17,  9.72222222e-01,  2.77777778e-02,\n",
       "         2.77777778e-02,  1.38888889e-01,  2.77555756e-17,\n",
       "         1.11111111e-01,  2.50000000e-01,  2.77777778e-02,\n",
       "         1.11111111e-01,  1.94444444e-01,  8.33333333e-02,\n",
       "         2.77777778e-02, -5.55111512e-17,  1.00000000e+00,\n",
       "         0.00000000e+00,  1.00000000e+00,  4.44444444e-01,\n",
       "         8.33333333e-02,  4.16333634e-17,  1.11111111e-01,\n",
       "         3.05555556e-01,  5.55555556e-02]])"
      ]
     },
     "execution_count": 241,
     "metadata": {},
     "output_type": "execute_result"
    }
   ],
   "source": [
    "kmeans = KMeans(n_clusters = 8, init = 'k-means++', random_state = 42)\n",
    "y_kmeans = kmeans.fit_predict(data_processed)\n",
    "# y_kmeans = kmeans.fit_predict(features)\n",
    "print(len(y_kmeans))\n",
    "print(y_kmeans)             # you have 7 clusters from 0 to 7\n",
    "kmeans.cluster_centers_     # cluster cetroids"
   ]
  },
  {
   "cell_type": "code",
   "execution_count": 242,
   "metadata": {},
   "outputs": [
    {
     "data": {
      "text/plain": [
       "0"
      ]
     },
     "execution_count": 242,
     "metadata": {},
     "output_type": "execute_result"
    }
   ],
   "source": [
    "cluster = pd.Series(data=y_kmeans)\n",
    "cluster.index = features.index\n",
    "cluster.isna().sum()"
   ]
  },
  {
   "cell_type": "markdown",
   "metadata": {},
   "source": [
    "### Add cluster dataseries to our dataframe 'features'"
   ]
  },
  {
   "cell_type": "code",
   "execution_count": 157,
   "metadata": {},
   "outputs": [
    {
     "data": {
      "text/html": [
       "<div>\n",
       "<style scoped>\n",
       "    .dataframe tbody tr th:only-of-type {\n",
       "        vertical-align: middle;\n",
       "    }\n",
       "\n",
       "    .dataframe tbody tr th {\n",
       "        vertical-align: top;\n",
       "    }\n",
       "\n",
       "    .dataframe thead th {\n",
       "        text-align: right;\n",
       "    }\n",
       "</style>\n",
       "<table border=\"1\" class=\"dataframe\">\n",
       "  <thead>\n",
       "    <tr style=\"text-align: right;\">\n",
       "      <th></th>\n",
       "      <th>exam_price</th>\n",
       "      <th>price</th>\n",
       "      <th>area_area1</th>\n",
       "      <th>area_area2</th>\n",
       "      <th>area_area3</th>\n",
       "      <th>area_area4</th>\n",
       "      <th>area_area5</th>\n",
       "      <th>area_area6</th>\n",
       "      <th>area_area7</th>\n",
       "      <th>area_area8</th>\n",
       "      <th>...</th>\n",
       "      <th>dr_class_b</th>\n",
       "      <th>clinic_hos_clinic</th>\n",
       "      <th>clinic_hos_hospital</th>\n",
       "      <th>medicine_type1</th>\n",
       "      <th>medicine_type2</th>\n",
       "      <th>medicine_type3</th>\n",
       "      <th>medicine_type4</th>\n",
       "      <th>medicine_type5</th>\n",
       "      <th>medicine_type6</th>\n",
       "      <th>Cluster</th>\n",
       "    </tr>\n",
       "  </thead>\n",
       "  <tbody>\n",
       "    <tr>\n",
       "      <th>0</th>\n",
       "      <td>0.531250</td>\n",
       "      <td>1.00</td>\n",
       "      <td>1.0</td>\n",
       "      <td>0.0</td>\n",
       "      <td>0.0</td>\n",
       "      <td>0.0</td>\n",
       "      <td>0.0</td>\n",
       "      <td>0.0</td>\n",
       "      <td>0.0</td>\n",
       "      <td>0.0</td>\n",
       "      <td>...</td>\n",
       "      <td>0.0</td>\n",
       "      <td>1.0</td>\n",
       "      <td>0.0</td>\n",
       "      <td>1.0</td>\n",
       "      <td>0.0</td>\n",
       "      <td>0.0</td>\n",
       "      <td>0.0</td>\n",
       "      <td>0.0</td>\n",
       "      <td>0.0</td>\n",
       "      <td>1</td>\n",
       "    </tr>\n",
       "    <tr>\n",
       "      <th>1</th>\n",
       "      <td>0.218750</td>\n",
       "      <td>0.64</td>\n",
       "      <td>0.0</td>\n",
       "      <td>1.0</td>\n",
       "      <td>0.0</td>\n",
       "      <td>0.0</td>\n",
       "      <td>0.0</td>\n",
       "      <td>0.0</td>\n",
       "      <td>0.0</td>\n",
       "      <td>0.0</td>\n",
       "      <td>...</td>\n",
       "      <td>1.0</td>\n",
       "      <td>1.0</td>\n",
       "      <td>0.0</td>\n",
       "      <td>0.0</td>\n",
       "      <td>0.0</td>\n",
       "      <td>0.0</td>\n",
       "      <td>1.0</td>\n",
       "      <td>0.0</td>\n",
       "      <td>0.0</td>\n",
       "      <td>4</td>\n",
       "    </tr>\n",
       "    <tr>\n",
       "      <th>2</th>\n",
       "      <td>0.140625</td>\n",
       "      <td>1.00</td>\n",
       "      <td>0.0</td>\n",
       "      <td>0.0</td>\n",
       "      <td>0.0</td>\n",
       "      <td>0.0</td>\n",
       "      <td>0.0</td>\n",
       "      <td>0.0</td>\n",
       "      <td>0.0</td>\n",
       "      <td>1.0</td>\n",
       "      <td>...</td>\n",
       "      <td>0.0</td>\n",
       "      <td>0.0</td>\n",
       "      <td>1.0</td>\n",
       "      <td>1.0</td>\n",
       "      <td>0.0</td>\n",
       "      <td>0.0</td>\n",
       "      <td>0.0</td>\n",
       "      <td>0.0</td>\n",
       "      <td>0.0</td>\n",
       "      <td>3</td>\n",
       "    </tr>\n",
       "    <tr>\n",
       "      <th>3</th>\n",
       "      <td>0.000000</td>\n",
       "      <td>1.00</td>\n",
       "      <td>0.0</td>\n",
       "      <td>0.0</td>\n",
       "      <td>0.0</td>\n",
       "      <td>0.0</td>\n",
       "      <td>1.0</td>\n",
       "      <td>0.0</td>\n",
       "      <td>0.0</td>\n",
       "      <td>0.0</td>\n",
       "      <td>...</td>\n",
       "      <td>0.0</td>\n",
       "      <td>0.0</td>\n",
       "      <td>1.0</td>\n",
       "      <td>1.0</td>\n",
       "      <td>0.0</td>\n",
       "      <td>0.0</td>\n",
       "      <td>0.0</td>\n",
       "      <td>0.0</td>\n",
       "      <td>0.0</td>\n",
       "      <td>3</td>\n",
       "    </tr>\n",
       "    <tr>\n",
       "      <th>4</th>\n",
       "      <td>0.593750</td>\n",
       "      <td>0.36</td>\n",
       "      <td>0.0</td>\n",
       "      <td>0.0</td>\n",
       "      <td>0.0</td>\n",
       "      <td>0.0</td>\n",
       "      <td>0.0</td>\n",
       "      <td>1.0</td>\n",
       "      <td>0.0</td>\n",
       "      <td>0.0</td>\n",
       "      <td>...</td>\n",
       "      <td>0.0</td>\n",
       "      <td>1.0</td>\n",
       "      <td>0.0</td>\n",
       "      <td>0.0</td>\n",
       "      <td>0.0</td>\n",
       "      <td>0.0</td>\n",
       "      <td>0.0</td>\n",
       "      <td>1.0</td>\n",
       "      <td>0.0</td>\n",
       "      <td>6</td>\n",
       "    </tr>\n",
       "  </tbody>\n",
       "</table>\n",
       "<p>5 rows × 32 columns</p>\n",
       "</div>"
      ],
      "text/plain": [
       "   exam_price  price  area_area1  area_area2  area_area3  area_area4  \\\n",
       "0    0.531250   1.00         1.0         0.0         0.0         0.0   \n",
       "1    0.218750   0.64         0.0         1.0         0.0         0.0   \n",
       "2    0.140625   1.00         0.0         0.0         0.0         0.0   \n",
       "3    0.000000   1.00         0.0         0.0         0.0         0.0   \n",
       "4    0.593750   0.36         0.0         0.0         0.0         0.0   \n",
       "\n",
       "   area_area5  area_area6  area_area7  area_area8   ...     dr_class_b  \\\n",
       "0         0.0         0.0         0.0         0.0   ...            0.0   \n",
       "1         0.0         0.0         0.0         0.0   ...            1.0   \n",
       "2         0.0         0.0         0.0         1.0   ...            0.0   \n",
       "3         1.0         0.0         0.0         0.0   ...            0.0   \n",
       "4         0.0         1.0         0.0         0.0   ...            0.0   \n",
       "\n",
       "   clinic_hos_clinic  clinic_hos_hospital  medicine_type1  medicine_type2  \\\n",
       "0                1.0                  0.0             1.0             0.0   \n",
       "1                1.0                  0.0             0.0             0.0   \n",
       "2                0.0                  1.0             1.0             0.0   \n",
       "3                0.0                  1.0             1.0             0.0   \n",
       "4                1.0                  0.0             0.0             0.0   \n",
       "\n",
       "   medicine_type3  medicine_type4  medicine_type5  medicine_type6  Cluster  \n",
       "0             0.0             0.0             0.0             0.0        1  \n",
       "1             0.0             1.0             0.0             0.0        4  \n",
       "2             0.0             0.0             0.0             0.0        3  \n",
       "3             0.0             0.0             0.0             0.0        3  \n",
       "4             0.0             0.0             1.0             0.0        6  \n",
       "\n",
       "[5 rows x 32 columns]"
      ]
     },
     "execution_count": 157,
     "metadata": {},
     "output_type": "execute_result"
    }
   ],
   "source": [
    "# features[\"Cluster\"] = cluster\n",
    "# features.head()"
   ]
  },
  {
   "cell_type": "markdown",
   "metadata": {},
   "source": [
    "# Sixth Stage: Model Selection\n",
    "### We will choose **\"AdaBoost Classifier\"** model for its high efficiency."
   ]
  },
  {
   "cell_type": "code",
   "execution_count": 243,
   "metadata": {},
   "outputs": [],
   "source": [
    "from sklearn.metrics import fbeta_score\n",
    "def performance_metric(y_true, y_predict):\n",
    "    \"\"\" Calculates and returns the performance score between \n",
    "        true and predicted values based on the metric choosen.\n",
    "    \"\"\"\n",
    "    # Calculate the fbeta_score between 'y_true' and 'y_predict'\n",
    "    score = fbeta_score(y_true, y_predict, beta=0.5)\n",
    "    # Return the score\n",
    "    return score"
   ]
  },
  {
   "cell_type": "markdown",
   "metadata": {},
   "source": [
    "**We used fbeta_score with beta=0.5 because we are concerned with 'precision' more than 'recall'**"
   ]
  },
  {
   "cell_type": "code",
   "execution_count": 244,
   "metadata": {},
   "outputs": [
    {
     "name": "stdout",
     "output_type": "stream",
     "text": [
      "Training and testing split was successful.\n"
     ]
    }
   ],
   "source": [
    "from sklearn.model_selection import train_test_split\n",
    "\n",
    "# Shuffle and split the data into training and testing subsets (training = 80%, testing = test_size = 20%)\n",
    "X_train, X_test, y_train, y_test = train_test_split(features, write, test_size=0.2, random_state=42)\n",
    "print(\"Training and testing split was successful.\")"
   ]
  },
  {
   "cell_type": "code",
   "execution_count": 245,
   "metadata": {},
   "outputs": [],
   "source": [
    "from sklearn.ensemble import AdaBoostClassifier\n",
    "from sklearn.model_selection import ShuffleSplit\n",
    "from sklearn.model_selection import GridSearchCV\n",
    "from sklearn.metrics import make_scorer\n",
    "from sklearn.metrics import accuracy_score\n",
    "from sklearn.tree import DecisionTreeClassifier "
   ]
  },
  {
   "cell_type": "code",
   "execution_count": 246,
   "metadata": {},
   "outputs": [
    {
     "data": {
      "text/plain": [
       "AdaBoostClassifier(base_estimator=DecisionTreeClassifier(max_depth=4,\n",
       "                                                         min_samples_leaf=14,\n",
       "                                                         min_samples_split=8,\n",
       "                                                         random_state=42),\n",
       "                   learning_rate=0.4, n_estimators=85, random_state=42)"
      ]
     },
     "execution_count": 246,
     "metadata": {},
     "output_type": "execute_result"
    }
   ],
   "source": [
    "clf = AdaBoostClassifier(random_state=42)\n",
    "# Create the parameters list we wish to tune.\n",
    "# parameters = {'learning_rate':[1, 0.1, 0.001, 0.0001], 'n_estimators':[10, 20, 30, 40],'base_estimator':[DecisionTreeClassifier(random_state=42)],'base_estimator__max_depth':[3,4,5,7],'base_estimator__min_samples_leaf':[4,5,6,8],'base_estimator__min_samples_split':[2,3]}\n",
    "parameters = {'learning_rate':[0.4], 'n_estimators':[85], 'base_estimator':[DecisionTreeClassifier(random_state=42)],'base_estimator__max_depth':[4],'base_estimator__min_samples_leaf':[14],'base_estimator__min_samples_split':[8]}\n",
    "# Initialize the classifier\n",
    "cv_sets = ShuffleSplit(n_splits=5, random_state=42, test_size=0.2, train_size=None)\n",
    "# Make an fbeta_score scoring object.\n",
    "scorer = make_scorer(fbeta_score, beta=0.5)\n",
    "# Perform grid search on the classifier using 'scorer' as the scoring method.\n",
    "grid_obj = GridSearchCV(clf, parameters, scoring=scorer,cv=cv_sets)\n",
    "# Fit the grid search object to the training data and find the optimal parameters.\n",
    "grid_fit = grid_obj.fit(X_train, y_train)\n",
    "# Get the estimator.\n",
    "model = grid_fit.best_estimator_\n",
    "# Fit the new model.\n",
    "model.fit(X_train,y_train)"
   ]
  },
  {
   "cell_type": "code",
   "execution_count": 247,
   "metadata": {},
   "outputs": [],
   "source": [
    "# Make predictions using the new model.\n",
    "train_predictions = model.predict(X_train)\n",
    "test_predictions = model.predict(X_test)"
   ]
  },
  {
   "cell_type": "code",
   "execution_count": 248,
   "metadata": {},
   "outputs": [
    {
     "name": "stdout",
     "output_type": "stream",
     "text": [
      "The training accuracy is: 0.8910256410256411\n",
      "The test accuracy is: 0.7051282051282052\n",
      "The training fbeta Score is: 0.9017278617710582\n",
      "The testing fbeta Score is: 0.7450980392156862\n"
     ]
    }
   ],
   "source": [
    "# Calculate the accuracy\n",
    "train_accuracy = accuracy_score(y_train, train_predictions)\n",
    "test_accuracy = accuracy_score(y_test, test_predictions)\n",
    "print('The training accuracy is:', train_accuracy)\n",
    "print('The test accuracy is:', test_accuracy)\n",
    "print('The training fbeta Score is:', performance_metric(y_train, train_predictions))\n",
    "print('The testing fbeta Score is:', performance_metric(y_test, test_predictions))"
   ]
  },
  {
   "cell_type": "markdown",
   "metadata": {},
   "source": [
    "# test decision tree model\n"
   ]
  },
  {
   "cell_type": "code",
   "execution_count": 186,
   "metadata": {},
   "outputs": [
    {
     "name": "stdout",
     "output_type": "stream",
     "text": [
      "The training accuracy is: 0.8878205128205128\n",
      "The test accuracy is: 0.7307692307692307\n",
      "The training fbeta Score is: 0.918013856812933\n",
      "The testing fbeta Score is: 0.7740585774058578\n"
     ]
    }
   ],
   "source": [
    "# model2 = DecisionTreeClassifier(max_depth= 5, min_samples_leaf= 2, min_samples_split=3, random_state=42)\n",
    "model2 = DecisionTreeClassifier(random_state=42, max_depth=5)\n",
    "model2.fit(X_train,y_train)\n",
    "train_predictions2 = model2.predict(X_train)\n",
    "test_predictions2 = model2.predict(X_test)\n",
    "train_accuracy2 = accuracy_score(y_train, train_predictions2)\n",
    "test_accuracy2 = accuracy_score(y_test, test_predictions2)\n",
    "print('The training accuracy is:', train_accuracy2)\n",
    "print('The test accuracy is:', test_accuracy2)\n",
    "print('The training fbeta Score is:', performance_metric(y_train, train_predictions2))\n",
    "print('The testing fbeta Score is:', performance_metric(y_test, test_predictions2))"
   ]
  },
  {
   "cell_type": "code",
   "execution_count": 184,
   "metadata": {},
   "outputs": [
    {
     "data": {
      "text/plain": [
       "{'ccp_alpha': 0.0,\n",
       " 'class_weight': None,\n",
       " 'criterion': 'gini',\n",
       " 'max_depth': None,\n",
       " 'max_features': None,\n",
       " 'max_leaf_nodes': None,\n",
       " 'min_impurity_decrease': 0.0,\n",
       " 'min_impurity_split': None,\n",
       " 'min_samples_leaf': 1,\n",
       " 'min_samples_split': 2,\n",
       " 'min_weight_fraction_leaf': 0.0,\n",
       " 'random_state': 42,\n",
       " 'splitter': 'best'}"
      ]
     },
     "execution_count": 184,
     "metadata": {},
     "output_type": "execute_result"
    }
   ],
   "source": [
    "model2.get_params()"
   ]
  },
  {
   "cell_type": "code",
   "execution_count": null,
   "metadata": {},
   "outputs": [],
   "source": []
  }
 ],
 "metadata": {
  "kernelspec": {
   "display_name": "Abdo_Halem",
   "language": "python",
   "name": "python3"
  },
  "language_info": {
   "codemirror_mode": {
    "name": "ipython",
    "version": 3
   },
   "file_extension": ".py",
   "mimetype": "text/x-python",
   "name": "python",
   "nbconvert_exporter": "python",
   "pygments_lexer": "ipython3",
   "version": "3.6.7"
  }
 },
 "nbformat": 4,
 "nbformat_minor": 2
}
